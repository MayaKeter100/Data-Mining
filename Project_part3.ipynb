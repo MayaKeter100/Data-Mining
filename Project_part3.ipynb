{
 "cells": [
  {
   "cell_type": "markdown",
   "metadata": {},
   "source": [
    "# Data Mining and Visualization-Part 3\n",
    "In this second part of the project, I will create a classification model that will be used by the marketing managers of the insurance company to decide which new potential customers to contact."
   ]
  },
  {
   "cell_type": "code",
   "execution_count": 1,
   "metadata": {},
   "outputs": [],
   "source": [
    "#conda install -c conda-forge imbalanced-learn"
   ]
  },
  {
   "cell_type": "code",
   "execution_count": 9,
   "metadata": {},
   "outputs": [],
   "source": [
    "import numpy as np\n",
    "import pandas as pd\n",
    "import matplotlib.pyplot as plt\n",
    "from pprint import pprint\n",
    "from sklearn.tree import export_graphviz\n",
    "from IPython.display import Image  \n",
    "import pydotplus\n",
    "\n",
    "from sklearn.model_selection import train_test_split \n",
    "from sklearn.model_selection import cross_val_score\n",
    "from sklearn.model_selection import RepeatedStratifiedKFold\n",
    "from imblearn.pipeline import Pipeline\n",
    "\n",
    "\n",
    "from sklearn.model_selection import RandomizedSearchCV\n",
    "from sklearn.model_selection import GridSearchCV\n",
    " \n",
    "\n",
    "from sklearn.naive_bayes import GaussianNB \n",
    "from sklearn import svm\n",
    "from sklearn.preprocessing import StandardScaler\n",
    "from sklearn.ensemble import RandomForestClassifier\n",
    "from sklearn.tree import DecisionTreeClassifier \n",
    "from xgboost.sklearn import XGBClassifier\n",
    "from sklearn.linear_model import SGDClassifier\n",
    "from sklearn.neural_network import MLPClassifier\n",
    "from catboost import CatBoostClassifier,Pool\n",
    "from sklearn.ensemble import BaggingClassifier\n",
    "\n",
    "from scipy import stats \n",
    "from sklearn import metrics\n",
    "from sklearn.metrics import precision_score, recall_score, accuracy_score### data evaluation \n",
    "\n",
    "from imblearn.over_sampling import SMOTE \n",
    "from imblearn.under_sampling import RandomUnderSampler\n"
   ]
  },
  {
   "cell_type": "markdown",
   "metadata": {},
   "source": [
    "we corrected the problem from the previous task, now we did the pre-process on the whole data and then splitted and saved into 2 csv files (before the prediction on the test we will concat them together)"
   ]
  },
  {
   "cell_type": "code",
   "execution_count": 10,
   "metadata": {
    "scrolled": false
   },
   "outputs": [
    {
     "data": {
      "text/plain": [
       "Index(['id ', 'status', 'education', 'profession', 'device', 'loan',\n",
       "       'mortgage', 'credit', 'positive', 'subscribed', 'p_participant',\n",
       "       'l_season', 'debts', 'age_z_norm', 'account_balance_z_norm',\n",
       "       'n_contact_z_norm', 'l_call_duration_z_norm', 'n_p_contact_z_norm',\n",
       "       'l_day_z_norm', 'l_season_z_norm', 'debts_z_norm', 'l_day_bin',\n",
       "       'account_balance_bin', 'age_bin', 'n_contact_bin',\n",
       "       'l_call_duration_bin'],\n",
       "      dtype='object')"
      ]
     },
     "execution_count": 10,
     "metadata": {},
     "output_type": "execute_result"
    }
   ],
   "source": [
    "train = pd.read_csv(\"./marketing_campaigns_train_final_part1.csv\")\n",
    "valid = pd.read_csv(\"./marketing_campaigns_validation_final_part1.csv\")\n",
    "train.columns"
   ]
  },
  {
   "cell_type": "markdown",
   "metadata": {},
   "source": [
    "#### train_test_split on the valid data "
   ]
  },
  {
   "cell_type": "markdown",
   "metadata": {},
   "source": [
    "we will run models on the valid data we created so we need to split the data to train and test as we did in the previous task"
   ]
  },
  {
   "cell_type": "code",
   "execution_count": 11,
   "metadata": {},
   "outputs": [],
   "source": [
    "X_valid = valid.drop(['subscribed'], axis=1)\n",
    "y_valid = valid['subscribed']"
   ]
  },
  {
   "cell_type": "markdown",
   "metadata": {},
   "source": [
    "we will keep all the different types of the data in a dictionary data_option_dict, the keys are the names of the data and the values are the data"
   ]
  },
  {
   "cell_type": "code",
   "execution_count": 12,
   "metadata": {},
   "outputs": [],
   "source": [
    "data_option_dict = {}\n",
    "clf_list=[]"
   ]
  },
  {
   "cell_type": "markdown",
   "metadata": {},
   "source": [
    "when we find the best type of data for each midel and its hyper parameters we will run a model evaluation (we wull run the wanted model with the wanted data on number of foldes) and we will store the accuracy of each fold in a dictionary model_dict "
   ]
  },
  {
   "cell_type": "markdown",
   "metadata": {},
   "source": [
    "* __data option 1: data_cat_no_debts__ <br>\n",
    "all the data is in categories (discrete) <br>\n",
    "the columns are: <br>\n",
    "'status', 'profession', 'device', 'loan', 'mortgage', 'credit', 'positive', 'p_participant', 'subscribed', 'l_season', 'l_call_duration', 'l_day_bin', 'account_balance_bin', 'age_bin', 'n_contact_bin'"
   ]
  },
  {
   "cell_type": "code",
   "execution_count": 13,
   "metadata": {},
   "outputs": [],
   "source": [
    "data_cat_no_debts = train[[ 'status', 'profession', 'device', 'loan', 'mortgage', 'credit', 'positive', 'p_participant',\n",
    "        'subscribed', 'l_season', 'l_call_duration_bin', 'l_day_bin', 'account_balance_bin', 'age_bin', 'n_contact_bin']].copy()\n",
    "\n",
    "valid_cat_no_debts = valid[[ 'status', 'profession', 'device', 'loan', 'mortgage', 'credit', 'positive', 'p_participant',\n",
    "        'subscribed', 'l_season', 'l_call_duration_bin', 'l_day_bin', 'account_balance_bin', 'age_bin', 'n_contact_bin']].copy()"
   ]
  },
  {
   "cell_type": "code",
   "execution_count": 14,
   "metadata": {},
   "outputs": [],
   "source": [
    "data_option_dict['data_cat_no_debts'] = data_cat_no_debts"
   ]
  },
  {
   "cell_type": "markdown",
   "metadata": {},
   "source": [
    "* __data option 2: data_norm_and_not_with_debts__ <br>\n",
    "data with also normalized and not nomalized columns. <br>\n",
    "the columns are: <br>\n",
    "'status', 'profession', 'device', 'debts', 'p_participant', 'subscribed', 'l_season', 'l_call_duration_z_norm', \n",
    "'account_balance_z_norm', 'n_contact_z_norm', 'l_day_z_norm'"
   ]
  },
  {
   "cell_type": "code",
   "execution_count": 15,
   "metadata": {},
   "outputs": [],
   "source": [
    "data_norm_and_not_with_debts = train[['status', 'profession', 'device', 'debts', 'p_participant', 'subscribed', 'l_season', \n",
    "                                   'l_call_duration_z_norm', 'account_balance_z_norm', 'n_contact_z_norm', 'age_z_norm', 'l_day_z_norm']].copy()\n",
    "\n",
    "valid_norm_and_not_with_debts = valid[['status', 'profession', 'device', 'debts', 'p_participant', 'subscribed', 'l_season', \n",
    "                                   'l_call_duration_z_norm', 'account_balance_z_norm', 'n_contact_z_norm', 'age_z_norm', 'l_day_z_norm']].copy()"
   ]
  },
  {
   "cell_type": "code",
   "execution_count": 16,
   "metadata": {},
   "outputs": [],
   "source": [
    "data_option_dict['data_norm_and_not_with_debts'] = data_norm_and_not_with_debts"
   ]
  },
  {
   "cell_type": "markdown",
   "metadata": {},
   "source": [
    "* __data option 3: data_cat_with_debts__ <br>\n",
    "the data is the data from option 1, but now instead of using the columns 'loan', 'mortgage', 'credit' and 'positive', we will only use the column 'debts'. <br>\n",
    "the columns are: <br>\n",
    "'status', 'profession', 'device', 'debts', 'p_participant', 'subscribed', 'l_season', 'l_call_duration', 'l_day_bin', 'account_balance_bin', 'age_bin', 'n_contact_bin'"
   ]
  },
  {
   "cell_type": "code",
   "execution_count": 17,
   "metadata": {},
   "outputs": [],
   "source": [
    "data_cat_with_debts = train[['status', 'profession', 'device', 'debts', 'p_participant', 'subscribed', 'l_season', \n",
    "                              'l_call_duration_bin', 'l_day_bin', 'account_balance_bin', 'age_bin', 'n_contact_bin']].copy()\n",
    "valid_cat_with_debts = valid[['status', 'profession', 'device', 'debts', 'p_participant', 'subscribed', 'l_season', \n",
    "                              'l_call_duration_bin', 'l_day_bin', 'account_balance_bin', 'age_bin', 'n_contact_bin']].copy()"
   ]
  },
  {
   "cell_type": "code",
   "execution_count": 18,
   "metadata": {},
   "outputs": [],
   "source": [
    "data_option_dict['data_cat_with_debts'] = data_cat_with_debts"
   ]
  },
  {
   "cell_type": "markdown",
   "metadata": {},
   "source": [
    "* __data option 4: data_cat_no_debts_dummies__ <br>\n",
    "the data is the data from option 1, but now we will also create dummies for every one of the columns."
   ]
  },
  {
   "cell_type": "code",
   "execution_count": 19,
   "metadata": {},
   "outputs": [],
   "source": [
    "# function to divide the data into dummies\n",
    "def divide_to_dummies(data):\n",
    "    dummies_col = [col for col in data if len(data[col].unique()) > 2 and len(train[col].unique()) < 13]\n",
    "    data_dummies = pd.get_dummies(data = data, columns = dummies_col )\n",
    "    return data_dummies"
   ]
  },
  {
   "cell_type": "code",
   "execution_count": 20,
   "metadata": {},
   "outputs": [],
   "source": [
    "data_cat_no_debts_dummies = divide_to_dummies(data_cat_no_debts.copy())\n",
    "valid_cat_no_debts_dummies = divide_to_dummies(valid_cat_no_debts.copy())"
   ]
  },
  {
   "cell_type": "code",
   "execution_count": 21,
   "metadata": {},
   "outputs": [],
   "source": [
    "data_option_dict['data_cat_no_debts_dummies'] = data_cat_no_debts_dummies"
   ]
  },
  {
   "cell_type": "markdown",
   "metadata": {},
   "source": [
    "* __data option 5: data_cat_with_debts_dummies__ <br>\n",
    "the data is the data from option 3, but now we will also create dummies for every one of the columns."
   ]
  },
  {
   "cell_type": "code",
   "execution_count": 22,
   "metadata": {},
   "outputs": [],
   "source": [
    "data_cat_with_debts_dummies = divide_to_dummies(data_cat_with_debts.copy())\n",
    "valid_cat_with_debts_dummies = divide_to_dummies(valid_cat_with_debts.copy())"
   ]
  },
  {
   "cell_type": "code",
   "execution_count": 23,
   "metadata": {},
   "outputs": [],
   "source": [
    "data_option_dict['data_cat_with_debts_dummies'] = data_cat_with_debts_dummies"
   ]
  },
  {
   "cell_type": "markdown",
   "metadata": {},
   "source": [
    "### Calculating Loss according the cost matrix "
   ]
  },
  {
   "cell_type": "markdown",
   "metadata": {},
   "source": [
    "Cost matrix: \n",
    "\n",
    "|  | predicted False | predicted True |\n",
    "|:--- | :---: | :---: |\n",
    "| <b>actual False</b> | 0 | C(T/F) = 1|\n",
    "| <b>actual True<b> | C(F/T) = 15 | 0|\n",
    "\n",
    "### $ Loss = fp\\cdot cfp + fn\\cdot cfn $ <br>\n",
    "- $cfp$: false positive cost =1\n",
    "- $cfn$: false negative cost=15\n"
   ]
  },
  {
   "cell_type": "markdown",
   "metadata": {},
   "source": [
    "#### The misclasification cost:"
   ]
  },
  {
   "cell_type": "code",
   "execution_count": 24,
   "metadata": {},
   "outputs": [],
   "source": [
    "cfp = 1\n",
    "cfn = 15"
   ]
  },
  {
   "cell_type": "code",
   "execution_count": 25,
   "metadata": {},
   "outputs": [],
   "source": [
    "def loss_calc(cm):\n",
    "    fp = cm[0][1]\n",
    "    fn = cm[1][0]\n",
    "    return fp + fn*15"
   ]
  },
  {
   "cell_type": "code",
   "execution_count": 26,
   "metadata": {},
   "outputs": [],
   "source": [
    "def cost_calc(y_test,y_pred):\n",
    "    cm=metrics.confusion_matrix(y_test, y_pred)\n",
    "    return loss_calc(cm)"
   ]
  },
  {
   "cell_type": "code",
   "execution_count": 27,
   "metadata": {},
   "outputs": [],
   "source": [
    "cost=metrics.make_scorer(cost_calc, greater_is_better=False)"
   ]
  },
  {
   "cell_type": "markdown",
   "metadata": {},
   "source": [
    "### data evaluation "
   ]
  },
  {
   "cell_type": "markdown",
   "metadata": {},
   "source": [
    "we will use this function in order to evaluate a spesific given classifier with different types of data. <br> \n",
    "* input: data_option_dict - a dictionary in which are all the different types of the data, the keys are the names of the data and the   values are the data itself. <br>\n",
    "  clf - the name classifier for which we want to find the best type of data \n",
    "* output: cm_dict - dictionary of confussion matrix for each of the data types, <br>\n",
    "   loss_dict - dictionary of loss values for each of the data types"
   ]
  },
  {
   "cell_type": "markdown",
   "metadata": {},
   "source": [
    "for each classifier we will compare between different types of data which are stored in a dictionary. we will run the data_cv function with the default classifier (without finding the best parameters),\n",
    "after we find the loss values of this classifier with everyone of the data types, we will use a ttest to find the best type of data for each of the classifiers\n"
   ]
  },
  {
   "cell_type": "code",
   "execution_count": 28,
   "metadata": {},
   "outputs": [],
   "source": [
    "def data_cv(data_dict, clf):\n",
    "    cm_dict, loss_dict = {}, {}\n",
    "    #auc_dict={}\n",
    "    kf = RepeatedStratifiedKFold(n_splits=10, n_repeats=3, random_state=1)\n",
    "    for data in data_dict.keys():\n",
    "        X = data_dict[data].drop(['subscribed'], axis = 1)\n",
    "        y = data_dict[data]['subscribed']\n",
    "        X = X.to_numpy()\n",
    "        #print(\"\\n\",\"------\",data,\"------\")\n",
    "        for train_index, test_index in kf.split(X,y):\n",
    "            # split to train and test\n",
    "            X_train, X_test = X[train_index], X[test_index]\n",
    "            y_train, y_test = y.to_numpy()[train_index], y.to_numpy()[test_index]\n",
    "            # train the model and make a prediction\n",
    "            clf.fit(X_train, y_train)\n",
    "            y_pred_best = clf.predict(X_test)\n",
    "            \n",
    "            cm=metrics.confusion_matrix(y_test, y_pred_best)\n",
    "            loss=loss_calc(cm)\n",
    "            \n",
    "            # save the results\n",
    "            cm_list = cm_dict.get(data,[])\n",
    "            cm_list.append(cm)\n",
    "            cm_dict[data] = cm_list\n",
    "\n",
    "            loss_list = loss_dict.get(data,[])\n",
    "            loss_list.append(loss)\n",
    "            loss_dict[data] = loss_list\n",
    "\n",
    "           # print(\"Loss: \", loss)\n",
    "            #print(\"~~~~~~~~~~~~~~~~~~~~~~~~~~~~~~~~~~~\")\n",
    "\n",
    "    return  cm_dict, loss_dict\n",
    "    \n",
    "    \n",
    "    "
   ]
  },
  {
   "cell_type": "markdown",
   "metadata": {},
   "source": [
    "#### function to print classifier"
   ]
  },
  {
   "cell_type": "code",
   "execution_count": 29,
   "metadata": {},
   "outputs": [],
   "source": [
    "def print_clf(clf, X_test, y_test,y_pred=1):\n",
    "    if y_pred==1:\n",
    "        y_pred = clf.predict(X_test)\n",
    "    cm=metrics.confusion_matrix(y_test, y_pred)\n",
    "    #acc = (cm[0][0]+cm[1][1])/sum(sum(cm))\n",
    "    loss=loss_calc(cm)\n",
    "    print('confusion matrix:')\n",
    "    display(pd.DataFrame(cm))\n",
    "    #print('accuracy: ',acc)\n",
    "    print('Cost:',loss)"
   ]
  },
  {
   "cell_type": "markdown",
   "metadata": {},
   "source": [
    "### Determine the treshold value\n",
    "we will use this function in order to determine the treshold value of a spesific given classifier . <br> \n",
    "* input:clf - the name classifier for which we want to find the best type of data <br>\n",
    "    X_train, X_test, y_train, y_test- the best data for this model after splitting\n",
    "* output: min_threshold-the treshold value that minimize the cost  <br>"
   ]
  },
  {
   "cell_type": "code",
   "execution_count": 30,
   "metadata": {},
   "outputs": [],
   "source": [
    "def min_threshold_value(clf,X_train, X_test, y_train, y_test):\n",
    "    \n",
    "    y_prob_test = clf.predict_proba(X_test)\n",
    "    y_prob_train = clf.predict_proba(X_train)\n",
    "    loss_list,loss_list_train = [],[]\n",
    "    for t in np.arange(0, 1, 0.05):\n",
    "        y_pred_test = [0 if p[1]<t else 1 for p in y_prob_test]\n",
    "        cm_test = metrics.confusion_matrix(y_test,y_pred_test)\n",
    "        loss_test = loss_calc(cm_test)\n",
    "        loss_list.append(loss_test)\n",
    "\n",
    "        y_pred_train = [0 if p[1]<t else 1 for p in y_prob_train]\n",
    "        cm_train = metrics.confusion_matrix(y_train,y_pred_train)\n",
    "        loss_train = loss_calc(cm_train)\n",
    "        loss_list_train.append(loss_train)\n",
    "\n",
    "    plt.xlabel(\"Threshold\",fontsize=14)\n",
    "    plt.ylabel(\"Loss \",color=\"red\",fontsize=14)\n",
    "    plt.plot(np.arange(0, 1, 0.05),loss_list_train, color=\"blue\", marker=\"o\")\n",
    "    plt.plot(np.arange(0, 1, 0.05),loss_list, color=\"red\", marker=\"o\")\n",
    "\n",
    "    plt.legend(['train','test'])\n",
    "\n",
    "    plt.show()\n",
    "    \n",
    "    min_threshold=round(0.05*loss_list_train.index(np.min(loss_list_train)),2)\n",
    "    print( \"\\033[4m\\npredict X_test data:\\033[0m\")\n",
    "    y_pred_min_test = [0 if p < min_threshold else 1 for _, p in y_prob_test]\n",
    "    print_clf(clf,X_test, y_test,y_pred_min_test)\n",
    "    print( \"\\033[4m\\npredict X_train data:\\033[0m\")\n",
    "    y_pred_min_train = [0 if p[1]<min_threshold else 1 for p in y_prob_train]\n",
    "    print_clf(clf,X_train, y_train,y_pred_min_train)\n",
    "    return min_threshold"
   ]
  },
  {
   "cell_type": "markdown",
   "metadata": {},
   "source": [
    "### Model Evaluation"
   ]
  },
  {
   "cell_type": "markdown",
   "metadata": {},
   "source": [
    "after we found the best type of data for a given classifier we want to run a model evaluation with a classifier and its best data. we will keep a list of accuracy for everyone of the folds for each algorithm and its data"
   ]
  },
  {
   "cell_type": "code",
   "execution_count": 31,
   "metadata": {},
   "outputs": [],
   "source": [
    "def mod_cv(clf, X, y,min_threshold):\n",
    "    loss_dict = {}\n",
    "    X = X.to_numpy()\n",
    "    kf = RepeatedStratifiedKFold(n_splits=10, n_repeats=3, random_state=1)\n",
    "    k = 0\n",
    "    for train_index, test_index in kf.split(X,y):\n",
    "        #print(\"train_index\", train_index)\n",
    "        #print(\"test_index\", test_index)\n",
    "        k+=1\n",
    "        #print(\"------\",k,\"------\")\n",
    "        # split to train and test\n",
    "        X_train, X_test = X[train_index], X[test_index]\n",
    "        y_train, y_test = y[train_index], y.to_numpy()[test_index]\n",
    "        #print(\"y\", y)\n",
    "        #print(\"train_index\", train_index)\n",
    "\n",
    "        clf.fit(X_train,y_train)\n",
    "        y_prob_test = clf.predict_proba(X_test)\n",
    "        y_pred = [0 if p[1]<min_threshold else 1 for p in y_prob_test]\n",
    "\n",
    "        cm = metrics.confusion_matrix(y_test, y_pred)\n",
    "        loss=loss_calc(cm)\n",
    "\n",
    "      \n",
    "        loss_list = loss_dict.get(clf.__class__.__name__,[])\n",
    "        loss_list.append(loss)\n",
    "        loss_dict[clf.__class__.__name__] = loss_list\n",
    "\n",
    "        #print(\"Classifier: \", clf)\n",
    "        #print(\"Loss: \", loss)\n",
    "    return  loss_dict\n",
    "\n",
    "\n"
   ]
  },
  {
   "cell_type": "markdown",
   "metadata": {},
   "source": [
    "### T-test"
   ]
  },
  {
   "cell_type": "markdown",
   "metadata": {},
   "source": [
    "we will use the T-test algorithm in two ways. <br>\n",
    "* the first way is to find the best type of data for a spesific classifier. this will be after doing data evaluation on this classifier.\n",
    "* the second way is to find the best classifier (with its best data type), this will be after doing model evaluation between classifiers with their best type of data\n"
   ]
  },
  {
   "cell_type": "markdown",
   "metadata": {},
   "source": [
    "in order to find the best data or classifier (deapends of the way we do the evaluation) we use a T-test algorithm. <br>\n",
    "we will first compare between two items with the function t_test_pairs and than we will run the function ttest_find_best that uses the function t_test_pairs to find the best item out of a list "
   ]
  },
  {
   "cell_type": "markdown",
   "metadata": {},
   "source": [
    "#### t_test_pairs: t test that check if the mean of the first accuracy list is greater than the mean of the second one. Returns the p value of the test\n",
    "* input: acc_list1 - list of score values for everyone of the folds for spesific first item <br>\n",
    "    acc_list2 - list of score values for everyone of the folds for spesific second item \n",
    "* output: p_value of the T-test algorithm"
   ]
  },
  {
   "cell_type": "code",
   "execution_count": 32,
   "metadata": {},
   "outputs": [],
   "source": [
    "def t_test_pairs(loss_list1, loss_list2):\n",
    "    _, double_p = stats.ttest_ind(loss_list1, loss_list2, equal_var=False)\n",
    "    mean_loss_1 = np.mean(loss_list1)\n",
    "    mean_loss_2 = np.mean(loss_list2)\n",
    "\n",
    "    if mean_loss_2 < mean_loss_1:\n",
    "        return double_p / 2.\n",
    "    return 1.0 - double_p / 2."
   ]
  },
  {
   "cell_type": "markdown",
   "metadata": {},
   "source": [
    "#### find_best_ttest: a function that performs statistical test (with significance level of 5%) on  scores of different items to find the best item for the relevant input and returns its name\n",
    "* input: loss_dict - dictionary of accuracy list for every one of the items\n",
    "* output: best_option - name of the best item found\n"
   ]
  },
  {
   "cell_type": "code",
   "execution_count": 33,
   "metadata": {},
   "outputs": [],
   "source": [
    "def ttest_find_best(loss_dict):\n",
    "    # perform a statistical test on the first 2 accuracy lists, store the p value\n",
    "    p_val = t_test_pairs(loss_dict[list(loss_dict.keys())[0]],loss_dict[list(loss_dict.keys())[1]])\n",
    "    if p_val > 0.05:\n",
    "        best_option = list(loss_dict.keys())[0]\n",
    "    else:\n",
    "        best_option = list(loss_dict.keys())[1]\n",
    "\n",
    "    # for each of the next items, perform statistical tests between their accuracy scores to the best one so far\n",
    "    for j in range(2, len(loss_dict.keys())):\n",
    "        p_val = t_test_pairs(loss_dict[list(loss_dict.keys())[j]],loss_dict[best_option])\n",
    "        if p_val > 0.05:\n",
    "            best_option = list(loss_dict.keys())[j]\n",
    "    return best_option"
   ]
  },
  {
   "cell_type": "code",
   "execution_count": 34,
   "metadata": {},
   "outputs": [],
   "source": [
    "model_dict = {}\n",
    "treshols_dict={}"
   ]
  },
  {
   "cell_type": "markdown",
   "metadata": {},
   "source": [
    "### Decision Tree Classifier\n"
   ]
  },
  {
   "cell_type": "markdown",
   "metadata": {},
   "source": [
    "* data evaluation on __Desicision Tree Classifier__"
   ]
  },
  {
   "cell_type": "code",
   "execution_count": 35,
   "metadata": {
    "scrolled": true
   },
   "outputs": [],
   "source": [
    "cm_dict_dt, loss_dict_dt=data_cv(data_option_dict,DecisionTreeClassifier(class_weight={0:cfp,1:cfn},random_state=42))"
   ]
  },
  {
   "cell_type": "code",
   "execution_count": 36,
   "metadata": {
    "scrolled": true
   },
   "outputs": [
    {
     "data": {
      "text/plain": [
       "'data_cat_with_debts_dummies'"
      ]
     },
     "execution_count": 36,
     "metadata": {},
     "output_type": "execute_result"
    }
   ],
   "source": [
    "best_data_option = ttest_find_best(loss_dict_dt)\n",
    "best_data_option"
   ]
  },
  {
   "cell_type": "code",
   "execution_count": 37,
   "metadata": {},
   "outputs": [],
   "source": [
    "X =  data_option_dict[best_data_option].drop(['subscribed'], axis=1)\n",
    "y =  data_option_dict[best_data_option]['subscribed']\n",
    "X_train, X_test, y_train, y_test = train_test_split(X, y, test_size=0.25, random_state=42) "
   ]
  },
  {
   "cell_type": "markdown",
   "metadata": {},
   "source": [
    "#### Let's see how a max_depth parameter can affect the performances, of the <b> train </b> and  the <b> test </b>we got from train_test_split"
   ]
  },
  {
   "cell_type": "code",
   "execution_count": 38,
   "metadata": {
    "scrolled": true
   },
   "outputs": [
    {
     "data": {
      "image/png": "[encoded data removed]",
      "text/plain": [
       "<Figure size 432x288 with 1 Axes>"
      ]
     },
     "metadata": {
      "needs_background": "light"
     },
     "output_type": "display_data"
    }
   ],
   "source": [
    "train_cost, test_cost = [],[]\n",
    "for k in range(2,50):\n",
    "    clf= DecisionTreeClassifier(criterion='entropy', splitter='best', class_weight={0:cfp,1:cfn},max_depth=k, random_state=42) \n",
    "    clf.fit(X_train,y_train)\n",
    "    y_pred_test = clf.predict(X_test)\n",
    "    cm_test=metrics.confusion_matrix(y_test, y_pred_test)\n",
    "    loss=loss_calc(cm_test)\n",
    "    test_cost.append(loss)\n",
    "    \n",
    "    y_pred_train = clf.predict(X_train)\n",
    "    cm_train=metrics.confusion_matrix(y_train, y_pred_train)\n",
    "    loss=loss_calc(cm_train)\n",
    "    train_cost.append(loss)\n",
    "    \n",
    "plt.plot(range(2,50), train_cost)\n",
    "plt.plot(range(2,50), test_cost)\n",
    "plt.legend(['train','test'])\n",
    "plt.xlabel('max_depth')\n",
    "plt.ylabel('Cost')\n",
    "plt.show()"
   ]
  },
  {
   "cell_type": "markdown",
   "metadata": {},
   "source": [
    "from the graph we can see that the best max_depth value is from this range- (2,10) so in the best_estimator_dt function we will choose \n",
    "the max_depth value option to be in this range"
   ]
  },
  {
   "cell_type": "markdown",
   "metadata": {},
   "source": [
    "#### Build best estimator of decision tree classifier:"
   ]
  },
  {
   "cell_type": "code",
   "execution_count": 39,
   "metadata": {},
   "outputs": [],
   "source": [
    "def best_estimator_dt(iteration, X_train, y_train):\n",
    "    \n",
    "    dt = DecisionTreeClassifier(random_state=42,class_weight={0:cfp,1:cfn})\n",
    "    \n",
    "    pipe_dt = Pipeline([('over', SMOTE()),('under',RandomUnderSampler()),('dt', dt)])\n",
    "\n",
    "    over__sampling_strategy=[0.2,0.4,0.6,0.8,1]\n",
    "    under__sampling_strategy=[0.2,0.4,0.6,0.8,1]\n",
    "    \n",
    "    criterion = ['entropy','gini']\n",
    "\n",
    "    max_depth = [int(x) for x in range(2,10)]\n",
    "    max_depth.append(None)\n",
    "\n",
    "    max_features = [None,'auto', 'log2', 2, 5, 8]\n",
    "\n",
    "    max_leaf_nodes=[None,10,20,30,40,50,60,70,80,90] \n",
    "\n",
    "    min_samples_split = [None,25,50, 100,150,200]\n",
    "\n",
    "    min_samples_leaf = [10,30, 50, 100]\n",
    "    \n",
    "    bootstrap = [True, False]\n",
    "\n",
    "    min_weight_fraction_leaf=[0.0,0.1,0.2,0.3,0.4,0.5,0.6,0.7,0.8,0.9]\n",
    "\n",
    "\n",
    "    parameters = {'dt__criterion': criterion,\n",
    "                   'dt__max_depth': max_depth,\n",
    "                   'dt__max_features': max_features,\n",
    "                   'dt__max_leaf_nodes': max_leaf_nodes,\n",
    "                   'dt__min_samples_leaf': min_samples_leaf,\n",
    "                   'dt__min_weight_fraction_leaf': min_weight_fraction_leaf,\n",
    "                   'dt__min_samples_split': min_samples_split,\n",
    "                   'over__sampling_strategy': over__sampling_strategy,\n",
    "                   'under__sampling_strategy':under__sampling_strategy\n",
    "                  \n",
    "                 }\n",
    "    \n",
    "    cv = RepeatedStratifiedKFold(n_splits=5, n_repeats=3, random_state=1)\n",
    "    \n",
    "    dt_random = RandomizedSearchCV(estimator = pipe_dt, param_distributions = parameters, n_iter = iteration, cv = cv,scoring=cost,\n",
    "                               verbose = 2, random_state = 42, n_jobs = -1)\n",
    "\n",
    "    dt_random.fit(X_train,y_train)\n",
    "    param= dt_random.best_params_\n",
    "    #deals with none option\n",
    "    if param['dt__max_features']==None or isinstance(param['dt__max_features'], str) :\n",
    "        max_features=[param['dt__max_features']]\n",
    "    else:\n",
    "        max_features=[param['dt__max_features']+i for i in range(-1,2)]\n",
    "        \n",
    "    if param['dt__max_leaf_nodes']==None:\n",
    "        max_leaf_nodes=[None,95,100]\n",
    "    else:\n",
    "        max_leaf_nodes=[param['dt__max_leaf_nodes']+5*i for i in range(-1,2)]\n",
    "        \n",
    "    if param['dt__max_depth']==None:\n",
    "        max_depth=[None,25,30]\n",
    "    else:\n",
    "        max_depth=[param['dt__max_depth']+i for i in range(-1,2)]\n",
    "        \n",
    "    param_grid = {'dt__criterion': [param['dt__criterion']],\n",
    "                   'dt__max_depth': max_depth,\n",
    "                   'dt__max_features': max_features,\n",
    "                   'dt__max_leaf_nodes': max_leaf_nodes,\n",
    "                   'dt__min_samples_leaf': [param['dt__min_samples_leaf']+5*i for i in range(-1,2)],\n",
    "                   'dt__min_weight_fraction_leaf': [param['dt__min_weight_fraction_leaf']+ round(0.1*i,2)for i in range(-1,2)],\n",
    "                   'dt__min_samples_split': [param['dt__min_samples_split']+25*i for i in range(-1,2)],\n",
    "                    'over__sampling_strategy': [param['over__sampling_strategy']+ round(0.1*i,2) for i in range(-1,2)],\n",
    "                    'under__sampling_strategy':[param['under__sampling_strategy'] +round(0.1*i,2) for i in range(-1,2)]\n",
    "                \n",
    "                 }\n",
    "\n",
    "\n",
    "    grid_search = GridSearchCV(estimator = pipe_dt, param_grid = param_grid, cv = cv, n_jobs = -1, verbose = 2,scoring=cost)\n",
    "    grid_search.fit(X_train, y_train)\n",
    "    return grid_search.best_estimator_\n"
   ]
  },
  {
   "cell_type": "code",
   "execution_count": 40,
   "metadata": {
    "scrolled": true
   },
   "outputs": [
    {
     "name": "stdout",
     "output_type": "stream",
     "text": [
      "Fitting 15 folds for each of 500 candidates, totalling 7500 fits\n"
     ]
    },
    {
     "name": "stderr",
     "output_type": "stream",
     "text": [
      "[Parallel(n_jobs=-1)]: Using backend LokyBackend with 4 concurrent workers.\n",
      "[Parallel(n_jobs=-1)]: Done  33 tasks      | elapsed:   12.7s\n",
      "[Parallel(n_jobs=-1)]: Done 154 tasks      | elapsed:   35.9s\n",
      "[Parallel(n_jobs=-1)]: Done 357 tasks      | elapsed:  1.2min\n",
      "[Parallel(n_jobs=-1)]: Done 640 tasks      | elapsed:  1.9min\n",
      "[Parallel(n_jobs=-1)]: Done 1005 tasks      | elapsed:  2.8min\n",
      "[Parallel(n_jobs=-1)]: Done 1450 tasks      | elapsed:  4.0min\n",
      "[Parallel(n_jobs=-1)]: Done 1977 tasks      | elapsed:  5.5min\n",
      "[Parallel(n_jobs=-1)]: Done 2584 tasks      | elapsed:  7.2min\n",
      "[Parallel(n_jobs=-1)]: Done 3273 tasks      | elapsed:  9.0min\n",
      "[Parallel(n_jobs=-1)]: Done 4042 tasks      | elapsed: 11.4min\n",
      "[Parallel(n_jobs=-1)]: Done 4893 tasks      | elapsed: 13.7min\n",
      "[Parallel(n_jobs=-1)]: Done 5824 tasks      | elapsed: 16.0min\n",
      "[Parallel(n_jobs=-1)]: Done 6837 tasks      | elapsed: 19.1min\n",
      "[Parallel(n_jobs=-1)]: Done 7500 out of 7500 | elapsed: 21.0min finished\n"
     ]
    },
    {
     "name": "stdout",
     "output_type": "stream",
     "text": [
      "Fitting 15 folds for each of 2187 candidates, totalling 32805 fits\n"
     ]
    },
    {
     "name": "stderr",
     "output_type": "stream",
     "text": [
      "[Parallel(n_jobs=-1)]: Using backend LokyBackend with 4 concurrent workers.\n",
      "[Parallel(n_jobs=-1)]: Done  58 tasks      | elapsed:    3.2s\n",
      "[Parallel(n_jobs=-1)]: Done 204 tasks      | elapsed:   20.0s\n",
      "[Parallel(n_jobs=-1)]: Done 458 tasks      | elapsed:   48.0s\n",
      "[Parallel(n_jobs=-1)]: Done 816 tasks      | elapsed:  1.5min\n",
      "[Parallel(n_jobs=-1)]: Done 1309 tasks      | elapsed:  2.4min\n",
      "[Parallel(n_jobs=-1)]: Done 1854 tasks      | elapsed:  3.5min\n",
      "[Parallel(n_jobs=-1)]: Done 2545 tasks      | elapsed:  4.8min\n",
      "[Parallel(n_jobs=-1)]: Done 3376 tasks      | elapsed:  6.3min\n",
      "[Parallel(n_jobs=-1)]: Done 4325 tasks      | elapsed:  7.9min\n",
      "[Parallel(n_jobs=-1)]: Done 5378 tasks      | elapsed:  9.8min\n",
      "[Parallel(n_jobs=-1)]: Done 6749 tasks      | elapsed: 12.1min\n",
      "[Parallel(n_jobs=-1)]: Done 7972 tasks      | elapsed: 14.3min\n",
      "[Parallel(n_jobs=-1)]: Done 9465 tasks      | elapsed: 16.8min\n",
      "[Parallel(n_jobs=-1)]: Done 11218 tasks      | elapsed: 19.6min\n",
      "[Parallel(n_jobs=-1)]: Done 13057 tasks      | elapsed: 22.4min\n",
      "[Parallel(n_jobs=-1)]: Done 15152 tasks      | elapsed: 25.6min\n",
      "[Parallel(n_jobs=-1)]: Done 17306 tasks      | elapsed: 28.9min\n",
      "[Parallel(n_jobs=-1)]: Done 19426 tasks      | elapsed: 32.2min\n",
      "[Parallel(n_jobs=-1)]: Done 21709 tasks      | elapsed: 35.7min\n",
      "[Parallel(n_jobs=-1)]: Done 24172 tasks      | elapsed: 39.6min\n",
      "[Parallel(n_jobs=-1)]: Done 26840 tasks      | elapsed: 43.8min\n",
      "[Parallel(n_jobs=-1)]: Done 29278 tasks      | elapsed: 48.6min\n",
      "[Parallel(n_jobs=-1)]: Done 31261 tasks      | elapsed: 55.2min\n",
      "[Parallel(n_jobs=-1)]: Done 32805 out of 32805 | elapsed: 59.3min finished\n"
     ]
    },
    {
     "data": {
      "text/plain": [
       "{'memory': None,\n",
       " 'steps': [('over', SMOTE(sampling_strategy=0.30000000000000004)),\n",
       "  ('under', RandomUnderSampler(sampling_strategy=0.5)),\n",
       "  ('dt',\n",
       "   DecisionTreeClassifier(class_weight={0: 1, 1: 15}, max_depth=6,\n",
       "                          max_leaf_nodes=95, min_samples_leaf=30,\n",
       "                          min_samples_split=125, random_state=42))],\n",
       " 'verbose': False,\n",
       " 'over': SMOTE(sampling_strategy=0.30000000000000004),\n",
       " 'under': RandomUnderSampler(sampling_strategy=0.5),\n",
       " 'dt': DecisionTreeClassifier(class_weight={0: 1, 1: 15}, max_depth=6,\n",
       "                        max_leaf_nodes=95, min_samples_leaf=30,\n",
       "                        min_samples_split=125, random_state=42),\n",
       " 'over__k_neighbors': 5,\n",
       " 'over__n_jobs': None,\n",
       " 'over__random_state': None,\n",
       " 'over__sampling_strategy': 0.30000000000000004,\n",
       " 'under__random_state': None,\n",
       " 'under__replacement': False,\n",
       " 'under__sampling_strategy': 0.5,\n",
       " 'dt__ccp_alpha': 0.0,\n",
       " 'dt__class_weight': {0: 1, 1: 15},\n",
       " 'dt__criterion': 'gini',\n",
       " 'dt__max_depth': 6,\n",
       " 'dt__max_features': None,\n",
       " 'dt__max_leaf_nodes': 95,\n",
       " 'dt__min_impurity_decrease': 0.0,\n",
       " 'dt__min_impurity_split': None,\n",
       " 'dt__min_samples_leaf': 30,\n",
       " 'dt__min_samples_split': 125,\n",
       " 'dt__min_weight_fraction_leaf': 0.0,\n",
       " 'dt__presort': 'deprecated',\n",
       " 'dt__random_state': 42,\n",
       " 'dt__splitter': 'best'}"
      ]
     },
     "execution_count": 40,
     "metadata": {},
     "output_type": "execute_result"
    }
   ],
   "source": [
    "clf_decision_tree=best_estimator_dt(500, X_train, y_train)\n",
    "clf_list.append(clf_decision_tree)\n",
    "clf_decision_tree.get_params()"
   ]
  },
  {
   "cell_type": "code",
   "execution_count": 41,
   "metadata": {
    "scrolled": true
   },
   "outputs": [
    {
     "name": "stdout",
     "output_type": "stream",
     "text": [
      "\u001b[4m\n",
      "predict X_test data:\u001b[0m\n",
      "confusion matrix:\n"
     ]
    },
    {
     "data": {
      "text/html": [
       "<div>\n",
       "<style scoped>\n",
       "    .dataframe tbody tr th:only-of-type {\n",
       "        vertical-align: middle;\n",
       "    }\n",
       "\n",
       "    .dataframe tbody tr th {\n",
       "        vertical-align: top;\n",
       "    }\n",
       "\n",
       "    .dataframe thead th {\n",
       "        text-align: right;\n",
       "    }\n",
       "</style>\n",
       "<table border=\"1\" class=\"dataframe\">\n",
       "  <thead>\n",
       "    <tr style=\"text-align: right;\">\n",
       "      <th></th>\n",
       "      <th>0</th>\n",
       "      <th>1</th>\n",
       "    </tr>\n",
       "  </thead>\n",
       "  <tbody>\n",
       "    <tr>\n",
       "      <th>0</th>\n",
       "      <td>2126</td>\n",
       "      <td>3222</td>\n",
       "    </tr>\n",
       "    <tr>\n",
       "      <th>1</th>\n",
       "      <td>20</td>\n",
       "      <td>727</td>\n",
       "    </tr>\n",
       "  </tbody>\n",
       "</table>\n",
       "</div>"
      ],
      "text/plain": [
       "      0     1\n",
       "0  2126  3222\n",
       "1    20   727"
      ]
     },
     "metadata": {},
     "output_type": "display_data"
    },
    {
     "name": "stdout",
     "output_type": "stream",
     "text": [
      "Cost: 3522\n",
      "\u001b[4m\n",
      "predict X_train data:\u001b[0m\n",
      "confusion matrix:\n"
     ]
    },
    {
     "data": {
      "text/html": [
       "<div>\n",
       "<style scoped>\n",
       "    .dataframe tbody tr th:only-of-type {\n",
       "        vertical-align: middle;\n",
       "    }\n",
       "\n",
       "    .dataframe tbody tr th {\n",
       "        vertical-align: top;\n",
       "    }\n",
       "\n",
       "    .dataframe thead th {\n",
       "        text-align: right;\n",
       "    }\n",
       "</style>\n",
       "<table border=\"1\" class=\"dataframe\">\n",
       "  <thead>\n",
       "    <tr style=\"text-align: right;\">\n",
       "      <th></th>\n",
       "      <th>0</th>\n",
       "      <th>1</th>\n",
       "    </tr>\n",
       "  </thead>\n",
       "  <tbody>\n",
       "    <tr>\n",
       "      <th>0</th>\n",
       "      <td>6393</td>\n",
       "      <td>9824</td>\n",
       "    </tr>\n",
       "    <tr>\n",
       "      <th>1</th>\n",
       "      <td>50</td>\n",
       "      <td>2018</td>\n",
       "    </tr>\n",
       "  </tbody>\n",
       "</table>\n",
       "</div>"
      ],
      "text/plain": [
       "      0     1\n",
       "0  6393  9824\n",
       "1    50  2018"
      ]
     },
     "metadata": {},
     "output_type": "display_data"
    },
    {
     "name": "stdout",
     "output_type": "stream",
     "text": [
      "Cost: 10574\n"
     ]
    }
   ],
   "source": [
    "print( \"\\033[4m\\npredict X_test data:\\033[0m\")\n",
    "print_clf(clf_decision_tree,X_test, y_test)\n",
    "print( \"\\033[4m\\npredict X_train data:\\033[0m\")\n",
    "print_clf(clf_decision_tree,X_train, y_train)"
   ]
  },
  {
   "cell_type": "code",
   "execution_count": 42,
   "metadata": {
    "scrolled": false
   },
   "outputs": [
    {
     "data": {
      "image/png": "[encoded data removed]",
      "text/plain": [
       "<Figure size 432x288 with 1 Axes>"
      ]
     },
     "metadata": {
      "needs_background": "light"
     },
     "output_type": "display_data"
    },
    {
     "name": "stdout",
     "output_type": "stream",
     "text": [
      "\u001b[4m\n",
      "predict X_test data:\u001b[0m\n",
      "confusion matrix:\n"
     ]
    },
    {
     "data": {
      "text/html": [
       "<div>\n",
       "<style scoped>\n",
       "    .dataframe tbody tr th:only-of-type {\n",
       "        vertical-align: middle;\n",
       "    }\n",
       "\n",
       "    .dataframe tbody tr th {\n",
       "        vertical-align: top;\n",
       "    }\n",
       "\n",
       "    .dataframe thead th {\n",
       "        text-align: right;\n",
       "    }\n",
       "</style>\n",
       "<table border=\"1\" class=\"dataframe\">\n",
       "  <thead>\n",
       "    <tr style=\"text-align: right;\">\n",
       "      <th></th>\n",
       "      <th>0</th>\n",
       "      <th>1</th>\n",
       "    </tr>\n",
       "  </thead>\n",
       "  <tbody>\n",
       "    <tr>\n",
       "      <th>0</th>\n",
       "      <td>3619</td>\n",
       "      <td>1729</td>\n",
       "    </tr>\n",
       "    <tr>\n",
       "      <th>1</th>\n",
       "      <td>72</td>\n",
       "      <td>675</td>\n",
       "    </tr>\n",
       "  </tbody>\n",
       "</table>\n",
       "</div>"
      ],
      "text/plain": [
       "      0     1\n",
       "0  3619  1729\n",
       "1    72   675"
      ]
     },
     "metadata": {},
     "output_type": "display_data"
    },
    {
     "name": "stdout",
     "output_type": "stream",
     "text": [
      "Cost: 2809\n",
      "\u001b[4m\n",
      "predict X_train data:\u001b[0m\n",
      "confusion matrix:\n"
     ]
    },
    {
     "data": {
      "text/html": [
       "<div>\n",
       "<style scoped>\n",
       "    .dataframe tbody tr th:only-of-type {\n",
       "        vertical-align: middle;\n",
       "    }\n",
       "\n",
       "    .dataframe tbody tr th {\n",
       "        vertical-align: top;\n",
       "    }\n",
       "\n",
       "    .dataframe thead th {\n",
       "        text-align: right;\n",
       "    }\n",
       "</style>\n",
       "<table border=\"1\" class=\"dataframe\">\n",
       "  <thead>\n",
       "    <tr style=\"text-align: right;\">\n",
       "      <th></th>\n",
       "      <th>0</th>\n",
       "      <th>1</th>\n",
       "    </tr>\n",
       "  </thead>\n",
       "  <tbody>\n",
       "    <tr>\n",
       "      <th>0</th>\n",
       "      <td>10801</td>\n",
       "      <td>5416</td>\n",
       "    </tr>\n",
       "    <tr>\n",
       "      <th>1</th>\n",
       "      <td>189</td>\n",
       "      <td>1879</td>\n",
       "    </tr>\n",
       "  </tbody>\n",
       "</table>\n",
       "</div>"
      ],
      "text/plain": [
       "       0     1\n",
       "0  10801  5416\n",
       "1    189  1879"
      ]
     },
     "metadata": {},
     "output_type": "display_data"
    },
    {
     "name": "stdout",
     "output_type": "stream",
     "text": [
      "Cost: 8251\n"
     ]
    }
   ],
   "source": [
    "min_threshold=min_threshold_value(clf_decision_tree,X_train, X_test, y_train, y_test)"
   ]
  },
  {
   "cell_type": "code",
   "execution_count": 43,
   "metadata": {
    "scrolled": false
   },
   "outputs": [],
   "source": [
    "loss_dict = mod_cv(clf_decision_tree, X, y,min_threshold)"
   ]
  },
  {
   "cell_type": "code",
   "execution_count": 44,
   "metadata": {
    "scrolled": true
   },
   "outputs": [],
   "source": [
    "model_dict['clf_decision_tree'] = list(loss_dict.values())[0]"
   ]
  },
  {
   "cell_type": "code",
   "execution_count": 45,
   "metadata": {},
   "outputs": [],
   "source": [
    "treshols_dict['clf_decision_tree']=min_threshold"
   ]
  },
  {
   "cell_type": "markdown",
   "metadata": {},
   "source": [
    "### Random Forest Classifier"
   ]
  },
  {
   "cell_type": "markdown",
   "metadata": {},
   "source": [
    "* data evaluation on Random Forest Classifier"
   ]
  },
  {
   "cell_type": "code",
   "execution_count": 46,
   "metadata": {
    "scrolled": true
   },
   "outputs": [],
   "source": [
    "cm_dict_rf, loss_dict_rf=data_cv(data_option_dict,RandomForestClassifier(class_weight={0:cfp,1:cfn},random_state=42))"
   ]
  },
  {
   "cell_type": "code",
   "execution_count": 47,
   "metadata": {
    "scrolled": true
   },
   "outputs": [
    {
     "data": {
      "text/plain": [
       "'data_cat_with_debts_dummies'"
      ]
     },
     "execution_count": 47,
     "metadata": {},
     "output_type": "execute_result"
    }
   ],
   "source": [
    "best_data_option = ttest_find_best(loss_dict_rf)\n",
    "best_data_option"
   ]
  },
  {
   "cell_type": "code",
   "execution_count": 48,
   "metadata": {},
   "outputs": [],
   "source": [
    "X =  data_option_dict[best_data_option].drop(['subscribed'], axis=1)\n",
    "y =  data_option_dict[best_data_option]['subscribed']\n",
    "X_train, X_test, y_train, y_test = train_test_split(X, y, test_size=0.25, random_state=42) "
   ]
  },
  {
   "cell_type": "markdown",
   "metadata": {},
   "source": [
    "#### Let's see how a n_estimators parameter can affect the performances, of the <b> train </b> and  the <b> test </b>we got from train_test_split"
   ]
  },
  {
   "cell_type": "code",
   "execution_count": 49,
   "metadata": {
    "scrolled": true
   },
   "outputs": [
    {
     "data": {
      "image/png": "[encoded data removed]",
      "text/plain": [
       "<Figure size 432x288 with 1 Axes>"
      ]
     },
     "metadata": {
      "needs_background": "light"
     },
     "output_type": "display_data"
    },
    {
     "data": {
      "image/png": "[encoded data removed]",
      "text/plain": [
       "<Figure size 432x288 with 1 Axes>"
      ]
     },
     "metadata": {
      "needs_background": "light"
     },
     "output_type": "display_data"
    }
   ],
   "source": [
    "train_cost, test_cost = [],[]\n",
    "min_cost_depth=30\n",
    "for x in range(1,30,2):\n",
    "    \n",
    "    clf= RandomForestClassifier(class_weight={0:cfp,1:cfn},max_depth=x, random_state=42) \n",
    "    clf.fit(X_train,y_train)\n",
    "    \n",
    "    y_pred_test = clf.predict(X_test)\n",
    "    cm_test=metrics.confusion_matrix(y_test, y_pred_test)\n",
    "    loss=loss_calc(cm_test)\n",
    "    test_cost.append(loss)\n",
    "    if(loss<=min(test_cost)):\n",
    "        min_cost_depth=x\n",
    "        \n",
    "    y_pred_train = clf.predict(X_train)\n",
    "    cm_train=metrics.confusion_matrix(y_train, y_pred_train)\n",
    "    loss=loss_calc(cm_train)\n",
    "    train_cost.append(loss)\n",
    "\n",
    "\n",
    "    \n",
    "plt.plot(range(1,30,2), train_cost)\n",
    "plt.plot(range(1,30,2), test_cost)\n",
    "plt.legend(['train','test'])\n",
    "plt.xlabel('max_depth')\n",
    "plt.ylabel('Cost')\n",
    "plt.show()\n",
    "\n",
    "\n",
    "train_cost, test_cost = [],[]\n",
    "\n",
    "for x in range(50,300,10):\n",
    "    \n",
    "    clf= RandomForestClassifier(class_weight={0:cfp,1:cfn},n_estimators=x,max_depth=min_cost_depth,random_state=42) \n",
    "    clf.fit(X_train,y_train)\n",
    "    \n",
    "    y_pred_test = clf.predict(X_test)\n",
    "    cm_test=metrics.confusion_matrix(y_test, y_pred_test)\n",
    "    loss=loss_calc(cm_test)\n",
    "    test_cost.append(loss)\n",
    "    \n",
    "    y_pred_train = clf.predict(X_train)\n",
    "    cm_train=metrics.confusion_matrix(y_train, y_pred_train)\n",
    "    loss=loss_calc(cm_train)\n",
    "    train_cost.append(loss)\n",
    "    \n",
    "plt.plot(range(50,300,10), train_cost)\n",
    "plt.plot(range(50,300,10), test_cost)\n",
    "plt.legend(['train','test'])\n",
    "plt.xlabel('n_estimators')\n",
    "plt.ylabel('Cost')\n",
    "plt.show()\n"
   ]
  },
  {
   "cell_type": "markdown",
   "metadata": {},
   "source": [
    "n_estimators- (50-150)\n",
    "max_depth- (5-13)"
   ]
  },
  {
   "cell_type": "code",
   "execution_count": 50,
   "metadata": {},
   "outputs": [],
   "source": [
    "def best_estimator_rf(iteration, X_train, y_train):\n",
    "      \n",
    "    clf_rf = RandomForestClassifier(class_weight={0:cfp,1:cfn}, random_state=42)\n",
    "    \n",
    "    pipe_rf = Pipeline([('over', SMOTE()),('under',RandomUnderSampler()),('rf', clf_rf)])\n",
    "\n",
    "    over__sampling_strategy=[0.2,0.4,0.6,0.8,1]\n",
    "    under__sampling_strategy=[0.2,0.4,0.6,0.8,1]\n",
    "\n",
    "    n_estimators = [int(x) for x in np.linspace(start = 50, stop = 150, num = 10)]\n",
    "\n",
    "    max_features = ['auto', 'log2']\n",
    "\n",
    "    max_depth = [5,7,9,11,13]\n",
    "    max_depth.append(None)\n",
    "\n",
    "    min_samples_split = [None,50, 100,150,200]\n",
    "\n",
    "    min_samples_leaf = [10,30, 50, 100]\n",
    "    bootstrap = [True, False]\n",
    "    # Create the random grid\n",
    "    random_grid = {'rf__n_estimators': n_estimators,\n",
    "                   'rf__max_features': max_features,\n",
    "                   'rf__max_depth': max_depth,\n",
    "                   'rf__min_samples_split': min_samples_split,\n",
    "                   'rf__min_samples_leaf': min_samples_leaf,\n",
    "                   'rf__bootstrap': bootstrap,\n",
    "                   'over__sampling_strategy':over__sampling_strategy,\n",
    "                   'under__sampling_strategy':under__sampling_strategy\n",
    "                  \n",
    "                  }\n",
    "    cv = RepeatedStratifiedKFold(n_splits=5, n_repeats=3, random_state=1)\n",
    "\n",
    "    rf_random = RandomizedSearchCV(estimator = pipe_rf, param_distributions = random_grid, n_iter = iteration, cv = cv,\n",
    "                                   verbose = 2, random_state = 42, n_jobs = -1,scoring=cost)\n",
    "\n",
    "    rf_random.fit(X_train, y_train)\n",
    "    param= rf_random.best_params_\n",
    "\n",
    "    if param['rf__max_depth']==None:\n",
    "        max_depth=[None]\n",
    "    else:\n",
    "         max_depth=[param['rf__max_depth']+i for i in range(-1,2)]\n",
    "            \n",
    "    if param['rf__min_samples_leaf']==1:\n",
    "        min_samples_leaf=[1,2,3]\n",
    "    else:\n",
    "         min_samples_leaf=[param['rf__min_samples_leaf']+5*i for i in range(-1,2)]\n",
    "\n",
    "    param_grid = {'rf__n_estimators': [param['rf__n_estimators']+5*i for i in range(-1,2)],\n",
    "                   'rf__max_depth': max_depth,\n",
    "                   'rf__max_features': [param['rf__max_features']],\n",
    "                   'rf__min_samples_leaf':min_samples_leaf,\n",
    "                   'rf__bootstrap':[param['rf__bootstrap']],\n",
    "                   'rf__min_samples_split': [param['rf__min_samples_split']+25*i for i in range(-1,2)],\n",
    "                    'under__sampling_strategy':[param['under__sampling_strategy']+ round(0.1*i,2) for i in range(-1,2)],\n",
    "                    'over__sampling_strategy':[param['over__sampling_strategy']+ round(0.1*i,2) for i in range(-1,2)]\n",
    "\n",
    "                 }\n",
    "\n",
    "    grid_search = GridSearchCV(estimator = pipe_rf, param_grid = param_grid, cv = cv, n_jobs = -1, verbose = 2,scoring=cost)\n",
    "    grid_search.fit(X_train, y_train)\n",
    "    return grid_search.best_estimator_"
   ]
  },
  {
   "cell_type": "code",
   "execution_count": 51,
   "metadata": {},
   "outputs": [
    {
     "name": "stdout",
     "output_type": "stream",
     "text": [
      "Fitting 15 folds for each of 500 candidates, totalling 7500 fits\n"
     ]
    },
    {
     "name": "stderr",
     "output_type": "stream",
     "text": [
      "[Parallel(n_jobs=-1)]: Using backend LokyBackend with 4 concurrent workers.\n",
      "[Parallel(n_jobs=-1)]: Done  33 tasks      | elapsed:   24.0s\n",
      "[Parallel(n_jobs=-1)]: Done 154 tasks      | elapsed:  1.7min\n",
      "[Parallel(n_jobs=-1)]: Done 357 tasks      | elapsed:  3.4min\n",
      "[Parallel(n_jobs=-1)]: Done 640 tasks      | elapsed:  6.6min\n",
      "[Parallel(n_jobs=-1)]: Done 1005 tasks      | elapsed: 10.6min\n",
      "[Parallel(n_jobs=-1)]: Done 1450 tasks      | elapsed: 16.0min\n",
      "[Parallel(n_jobs=-1)]: Done 1977 tasks      | elapsed: 20.7min\n",
      "[Parallel(n_jobs=-1)]: Done 2584 tasks      | elapsed: 26.5min\n",
      "[Parallel(n_jobs=-1)]: Done 3273 tasks      | elapsed: 31.7min\n",
      "[Parallel(n_jobs=-1)]: Done 4042 tasks      | elapsed: 38.1min\n",
      "[Parallel(n_jobs=-1)]: Done 4893 tasks      | elapsed: 45.9min\n",
      "[Parallel(n_jobs=-1)]: Done 5824 tasks      | elapsed: 53.5min\n",
      "[Parallel(n_jobs=-1)]: Done 6837 tasks      | elapsed: 62.3min\n",
      "[Parallel(n_jobs=-1)]: Done 7500 out of 7500 | elapsed: 67.9min finished\n"
     ]
    },
    {
     "name": "stdout",
     "output_type": "stream",
     "text": [
      "Fitting 15 folds for each of 729 candidates, totalling 10935 fits\n"
     ]
    },
    {
     "name": "stderr",
     "output_type": "stream",
     "text": [
      "[Parallel(n_jobs=-1)]: Using backend LokyBackend with 4 concurrent workers.\n",
      "[Parallel(n_jobs=-1)]: Done  58 tasks      | elapsed:    1.5s\n",
      "[Parallel(n_jobs=-1)]: Done 300 tasks      | elapsed:    6.0s\n",
      "[Parallel(n_jobs=-1)]: Done 706 tasks      | elapsed:   14.1s\n",
      "[Parallel(n_jobs=-1)]: Done 1272 tasks      | elapsed:   24.8s\n",
      "[Parallel(n_jobs=-1)]: Done 2002 tasks      | elapsed:   38.1s\n",
      "[Parallel(n_jobs=-1)]: Done 2892 tasks      | elapsed:   53.6s\n",
      "[Parallel(n_jobs=-1)]: Done 3809 tasks      | elapsed:  2.5min\n",
      "[Parallel(n_jobs=-1)]: Done 4416 tasks      | elapsed:  7.3min\n",
      "[Parallel(n_jobs=-1)]: Done 5105 tasks      | elapsed: 12.8min\n",
      "[Parallel(n_jobs=-1)]: Done 5874 tasks      | elapsed: 19.6min\n",
      "[Parallel(n_jobs=-1)]: Done 6725 tasks      | elapsed: 25.2min\n",
      "[Parallel(n_jobs=-1)]: Done 7656 tasks      | elapsed: 30.1min\n",
      "[Parallel(n_jobs=-1)]: Done 8669 tasks      | elapsed: 34.6min\n",
      "[Parallel(n_jobs=-1)]: Done 9762 tasks      | elapsed: 39.4min\n",
      "[Parallel(n_jobs=-1)]: Done 10935 out of 10935 | elapsed: 44.6min finished\n"
     ]
    },
    {
     "data": {
      "text/plain": [
       "{'memory': None,\n",
       " 'steps': [('over', SMOTE(sampling_strategy=0.2)),\n",
       "  ('under', RandomUnderSampler(sampling_strategy=0.2)),\n",
       "  ('rf',\n",
       "   RandomForestClassifier(class_weight={0: 1, 1: 15}, max_depth=14,\n",
       "                          min_samples_leaf=5, min_samples_split=75,\n",
       "                          n_estimators=67, random_state=42))],\n",
       " 'verbose': False,\n",
       " 'over': SMOTE(sampling_strategy=0.2),\n",
       " 'under': RandomUnderSampler(sampling_strategy=0.2),\n",
       " 'rf': RandomForestClassifier(class_weight={0: 1, 1: 15}, max_depth=14,\n",
       "                        min_samples_leaf=5, min_samples_split=75,\n",
       "                        n_estimators=67, random_state=42),\n",
       " 'over__k_neighbors': 5,\n",
       " 'over__n_jobs': None,\n",
       " 'over__random_state': None,\n",
       " 'over__sampling_strategy': 0.2,\n",
       " 'under__random_state': None,\n",
       " 'under__replacement': False,\n",
       " 'under__sampling_strategy': 0.2,\n",
       " 'rf__bootstrap': True,\n",
       " 'rf__ccp_alpha': 0.0,\n",
       " 'rf__class_weight': {0: 1, 1: 15},\n",
       " 'rf__criterion': 'gini',\n",
       " 'rf__max_depth': 14,\n",
       " 'rf__max_features': 'auto',\n",
       " 'rf__max_leaf_nodes': None,\n",
       " 'rf__max_samples': None,\n",
       " 'rf__min_impurity_decrease': 0.0,\n",
       " 'rf__min_impurity_split': None,\n",
       " 'rf__min_samples_leaf': 5,\n",
       " 'rf__min_samples_split': 75,\n",
       " 'rf__min_weight_fraction_leaf': 0.0,\n",
       " 'rf__n_estimators': 67,\n",
       " 'rf__n_jobs': None,\n",
       " 'rf__oob_score': False,\n",
       " 'rf__random_state': 42,\n",
       " 'rf__verbose': 0,\n",
       " 'rf__warm_start': False}"
      ]
     },
     "execution_count": 51,
     "metadata": {},
     "output_type": "execute_result"
    }
   ],
   "source": [
    "clf_random_forest=best_estimator_rf(500, X_train, y_train)\n",
    "clf_list.append(clf_random_forest)\n",
    "clf_random_forest.get_params()"
   ]
  },
  {
   "cell_type": "code",
   "execution_count": 52,
   "metadata": {},
   "outputs": [
    {
     "name": "stdout",
     "output_type": "stream",
     "text": [
      "\u001b[4m\n",
      "predict X_test data:\u001b[0m\n",
      "confusion matrix:\n"
     ]
    },
    {
     "data": {
      "text/html": [
       "<div>\n",
       "<style scoped>\n",
       "    .dataframe tbody tr th:only-of-type {\n",
       "        vertical-align: middle;\n",
       "    }\n",
       "\n",
       "    .dataframe tbody tr th {\n",
       "        vertical-align: top;\n",
       "    }\n",
       "\n",
       "    .dataframe thead th {\n",
       "        text-align: right;\n",
       "    }\n",
       "</style>\n",
       "<table border=\"1\" class=\"dataframe\">\n",
       "  <thead>\n",
       "    <tr style=\"text-align: right;\">\n",
       "      <th></th>\n",
       "      <th>0</th>\n",
       "      <th>1</th>\n",
       "    </tr>\n",
       "  </thead>\n",
       "  <tbody>\n",
       "    <tr>\n",
       "      <th>0</th>\n",
       "      <td>3485</td>\n",
       "      <td>1863</td>\n",
       "    </tr>\n",
       "    <tr>\n",
       "      <th>1</th>\n",
       "      <td>49</td>\n",
       "      <td>698</td>\n",
       "    </tr>\n",
       "  </tbody>\n",
       "</table>\n",
       "</div>"
      ],
      "text/plain": [
       "      0     1\n",
       "0  3485  1863\n",
       "1    49   698"
      ]
     },
     "metadata": {},
     "output_type": "display_data"
    },
    {
     "name": "stdout",
     "output_type": "stream",
     "text": [
      "Cost: 2598\n",
      "\u001b[4m\n",
      "predict X_train data:\u001b[0m\n",
      "confusion matrix:\n"
     ]
    },
    {
     "data": {
      "text/html": [
       "<div>\n",
       "<style scoped>\n",
       "    .dataframe tbody tr th:only-of-type {\n",
       "        vertical-align: middle;\n",
       "    }\n",
       "\n",
       "    .dataframe tbody tr th {\n",
       "        vertical-align: top;\n",
       "    }\n",
       "\n",
       "    .dataframe thead th {\n",
       "        text-align: right;\n",
       "    }\n",
       "</style>\n",
       "<table border=\"1\" class=\"dataframe\">\n",
       "  <thead>\n",
       "    <tr style=\"text-align: right;\">\n",
       "      <th></th>\n",
       "      <th>0</th>\n",
       "      <th>1</th>\n",
       "    </tr>\n",
       "  </thead>\n",
       "  <tbody>\n",
       "    <tr>\n",
       "      <th>0</th>\n",
       "      <td>10291</td>\n",
       "      <td>5926</td>\n",
       "    </tr>\n",
       "    <tr>\n",
       "      <th>1</th>\n",
       "      <td>104</td>\n",
       "      <td>1964</td>\n",
       "    </tr>\n",
       "  </tbody>\n",
       "</table>\n",
       "</div>"
      ],
      "text/plain": [
       "       0     1\n",
       "0  10291  5926\n",
       "1    104  1964"
      ]
     },
     "metadata": {},
     "output_type": "display_data"
    },
    {
     "name": "stdout",
     "output_type": "stream",
     "text": [
      "Cost: 7486\n"
     ]
    }
   ],
   "source": [
    "print( \"\\033[4m\\npredict X_test data:\\033[0m\")\n",
    "print_clf(clf_random_forest,X_test, y_test)\n",
    "print( \"\\033[4m\\npredict X_train data:\\033[0m\")\n",
    "print_clf(clf_random_forest,X_train, y_train)"
   ]
  },
  {
   "cell_type": "code",
   "execution_count": 53,
   "metadata": {
    "scrolled": true
   },
   "outputs": [
    {
     "data": {
      "image/png": "[encoded data removed]",
      "text/plain": [
       "<Figure size 432x288 with 1 Axes>"
      ]
     },
     "metadata": {
      "needs_background": "light"
     },
     "output_type": "display_data"
    },
    {
     "name": "stdout",
     "output_type": "stream",
     "text": [
      "\u001b[4m\n",
      "predict X_test data:\u001b[0m\n",
      "confusion matrix:\n"
     ]
    },
    {
     "data": {
      "text/html": [
       "<div>\n",
       "<style scoped>\n",
       "    .dataframe tbody tr th:only-of-type {\n",
       "        vertical-align: middle;\n",
       "    }\n",
       "\n",
       "    .dataframe tbody tr th {\n",
       "        vertical-align: top;\n",
       "    }\n",
       "\n",
       "    .dataframe thead th {\n",
       "        text-align: right;\n",
       "    }\n",
       "</style>\n",
       "<table border=\"1\" class=\"dataframe\">\n",
       "  <thead>\n",
       "    <tr style=\"text-align: right;\">\n",
       "      <th></th>\n",
       "      <th>0</th>\n",
       "      <th>1</th>\n",
       "    </tr>\n",
       "  </thead>\n",
       "  <tbody>\n",
       "    <tr>\n",
       "      <th>0</th>\n",
       "      <td>3707</td>\n",
       "      <td>1641</td>\n",
       "    </tr>\n",
       "    <tr>\n",
       "      <th>1</th>\n",
       "      <td>65</td>\n",
       "      <td>682</td>\n",
       "    </tr>\n",
       "  </tbody>\n",
       "</table>\n",
       "</div>"
      ],
      "text/plain": [
       "      0     1\n",
       "0  3707  1641\n",
       "1    65   682"
      ]
     },
     "metadata": {},
     "output_type": "display_data"
    },
    {
     "name": "stdout",
     "output_type": "stream",
     "text": [
      "Cost: 2616\n",
      "\u001b[4m\n",
      "predict X_train data:\u001b[0m\n",
      "confusion matrix:\n"
     ]
    },
    {
     "data": {
      "text/html": [
       "<div>\n",
       "<style scoped>\n",
       "    .dataframe tbody tr th:only-of-type {\n",
       "        vertical-align: middle;\n",
       "    }\n",
       "\n",
       "    .dataframe tbody tr th {\n",
       "        vertical-align: top;\n",
       "    }\n",
       "\n",
       "    .dataframe thead th {\n",
       "        text-align: right;\n",
       "    }\n",
       "</style>\n",
       "<table border=\"1\" class=\"dataframe\">\n",
       "  <thead>\n",
       "    <tr style=\"text-align: right;\">\n",
       "      <th></th>\n",
       "      <th>0</th>\n",
       "      <th>1</th>\n",
       "    </tr>\n",
       "  </thead>\n",
       "  <tbody>\n",
       "    <tr>\n",
       "      <th>0</th>\n",
       "      <td>11090</td>\n",
       "      <td>5127</td>\n",
       "    </tr>\n",
       "    <tr>\n",
       "      <th>1</th>\n",
       "      <td>150</td>\n",
       "      <td>1918</td>\n",
       "    </tr>\n",
       "  </tbody>\n",
       "</table>\n",
       "</div>"
      ],
      "text/plain": [
       "       0     1\n",
       "0  11090  5127\n",
       "1    150  1918"
      ]
     },
     "metadata": {},
     "output_type": "display_data"
    },
    {
     "name": "stdout",
     "output_type": "stream",
     "text": [
      "Cost: 7377\n"
     ]
    }
   ],
   "source": [
    "min_threshold=min_threshold_value(clf_random_forest,X_train, X_test, y_train, y_test)"
   ]
  },
  {
   "cell_type": "code",
   "execution_count": 54,
   "metadata": {
    "scrolled": false
   },
   "outputs": [],
   "source": [
    "loss_dict = mod_cv(clf_random_forest, X, y,min_threshold)"
   ]
  },
  {
   "cell_type": "code",
   "execution_count": 55,
   "metadata": {
    "scrolled": true
   },
   "outputs": [],
   "source": [
    "model_dict['clf_random_forest'] = list(loss_dict.values())[0]"
   ]
  },
  {
   "cell_type": "code",
   "execution_count": 56,
   "metadata": {},
   "outputs": [],
   "source": [
    "treshols_dict['clf_random_forest']=min_threshold"
   ]
  },
  {
   "cell_type": "markdown",
   "metadata": {},
   "source": [
    "## CatBoost Classification \n",
    "\n",
    "\n",
    "* data evaluation on __CatBoost Classifier__"
   ]
  },
  {
   "cell_type": "code",
   "execution_count": 57,
   "metadata": {
    "scrolled": true
   },
   "outputs": [],
   "source": [
    "cm_dict_cb, loss_dict_cb=data_cv(data_option_dict,CatBoostClassifier(logging_level='Silent'))"
   ]
  },
  {
   "cell_type": "code",
   "execution_count": 58,
   "metadata": {
    "scrolled": true
   },
   "outputs": [
    {
     "data": {
      "text/plain": [
       "'data_norm_and_not_with_debts'"
      ]
     },
     "execution_count": 58,
     "metadata": {},
     "output_type": "execute_result"
    }
   ],
   "source": [
    "best_data_option = ttest_find_best(loss_dict_cb)\n",
    "best_data_option"
   ]
  },
  {
   "cell_type": "code",
   "execution_count": 59,
   "metadata": {},
   "outputs": [],
   "source": [
    "X =  data_option_dict[best_data_option].drop(['subscribed'], axis=1)\n",
    "y =  data_option_dict[best_data_option]['subscribed']\n",
    "X_train, X_test, y_train, y_test = train_test_split(X, y, test_size=0.25, random_state=42) "
   ]
  },
  {
   "cell_type": "markdown",
   "metadata": {},
   "source": [
    " see how a iterations parameter affect the performances, in the <b> train </b> and in the <b> test </b>:"
   ]
  },
  {
   "cell_type": "code",
   "execution_count": 60,
   "metadata": {},
   "outputs": [
    {
     "data": {
      "image/png": "[encoded data removed]",
      "text/plain": [
       "<Figure size 432x288 with 1 Axes>"
      ]
     },
     "metadata": {
      "needs_background": "light"
     },
     "output_type": "display_data"
    }
   ],
   "source": [
    "train_scores, test_scores = [],[]\n",
    "for k in range(1,500,10):\n",
    "    clf_cat_boost = CatBoostClassifier(iterations=k,verbose = False,class_weights=[cfp,cfn])\n",
    "    clf_cat_boost.fit(X_train,y_train)\n",
    "    \n",
    "    y_pred_test = clf_cat_boost.predict(X_test)\n",
    "    cm_test=metrics.confusion_matrix(y_test, y_pred_test)\n",
    "    loss=loss_calc(cm_test)\n",
    "    test_scores.append(loss)\n",
    "    \n",
    "    y_pred_train = clf_cat_boost.predict(X_train)\n",
    "    cm_train=metrics.confusion_matrix(y_train, y_pred_train)\n",
    "    loss=loss_calc(cm_train)\n",
    "    train_scores.append(loss)\n",
    "plt.plot(range(1,500,10),train_scores)\n",
    "plt.plot(range(1,500,10),test_scores)\n",
    "plt.legend(['train','test'])\n",
    "plt.xlabel('iterations')\n",
    "plt.ylabel('Cost')\n",
    "plt.show()"
   ]
  },
  {
   "cell_type": "markdown",
   "metadata": {},
   "source": [
    "from the graph we can see that the best iterations value is from this range- (20-150) so in the best_estimator_dt function we will choose the iterations value option to be in this range."
   ]
  },
  {
   "cell_type": "markdown",
   "metadata": {},
   "source": [
    "#### Build best estimator of random forest classifier:"
   ]
  },
  {
   "cell_type": "code",
   "execution_count": 61,
   "metadata": {},
   "outputs": [],
   "source": [
    "def best_estimator_cb(iteration,X_train,y_train):\n",
    "    cb=CatBoostClassifier(class_weights=[cfp,cfn],logging_level='Silent')\n",
    "    \n",
    "    pipe_cb = Pipeline([('over', SMOTE()),('under',RandomUnderSampler()),('cb', cb)])\n",
    "\n",
    "    over__sampling_strategy=[0.2,0.4,0.6,0.8,1]\n",
    "    under__sampling_strategy=[0.2,0.4,0.6,0.8,1]\n",
    "\n",
    "\n",
    "    iterations=np.arange(20, 155,5).tolist()\n",
    "    depth = [2,4,6,8,10,12,14]\n",
    "\n",
    "    learning_rate=np.arange(0.05, 0.55,0.03).tolist()\n",
    "    \n",
    "    l2_leaf_reg= [1, 3, 5, 7, 9]\n",
    "        \n",
    "        \n",
    "    grow_policy=['SymmetricTree','Depthwise','Lossguide']\n",
    "    \n",
    "    boosting_type =[\"Ordered\", \"Plain\"]\n",
    "    loss_function=['Logloss','MultiClass']\n",
    "\n",
    "    parameters = {'cb__iterations':iterations,\n",
    "                    'cb__boosting_type':boosting_type,\n",
    "                    'cb__l2_leaf_reg': l2_leaf_reg,\n",
    "                    'cb__depth': depth,\n",
    "                    'cb__learning_rate': learning_rate,\n",
    "                    'cb__loss_function':loss_function,\n",
    "                    'cb__grow_policy': grow_policy,\n",
    "                    'over__sampling_strategy':over__sampling_strategy,\n",
    "                   'under__sampling_strategy':under__sampling_strategy\n",
    "                 }\n",
    "    cv = RepeatedStratifiedKFold(n_splits=5, n_repeats=3, random_state=1)\n",
    "\n",
    "    cb_random = RandomizedSearchCV(estimator = pipe_cb, param_distributions = parameters, n_iter = iteration, cv = cv,\n",
    "                               verbose = 2, random_state = 42, n_jobs = -1,scoring=cost)\n",
    "\n",
    "    cb_random.fit(X_train,y_train)\n",
    "    param= cb_random.best_params_\n",
    "\n",
    "\n",
    "    param_grid = { 'cb__boosting_type':[param['cb__boosting_type']],\n",
    "                   'cb__depth': [param['cb__depth']+i for i in range(-1,2)],\n",
    "                   'cb__learning_rate': [param['cb__learning_rate']+ round(0.015*i,3) for i in range(-1,2)],\n",
    "                   'cb__l2_leaf_reg':[param['cb__l2_leaf_reg']+i for i in range(-1,2)],\n",
    "                   'cb__loss_function':[param['cb__loss_function']],\n",
    "                   'cb__grow_policy': [param['cb__grow_policy']],\n",
    "                   'under__sampling_strategy':[param['under__sampling_strategy']+ round(0.1*i,2) for i in range(-1,2)],\n",
    "                   'over__sampling_strategy':[param['over__sampling_strategy']+ round(0.1*i,2) for i in range(-1,2)]\n",
    "                 \n",
    "                 }\n",
    "    grid_search = GridSearchCV(estimator = pipe_cb, param_grid = param_grid, cv = cv, n_jobs = -1, verbose = 2,scoring=cost)\n",
    "    grid_search.fit(X_train,y_train)\n",
    "   \n",
    "    return cb_random.best_estimator_"
   ]
  },
  {
   "cell_type": "code",
   "execution_count": 201,
   "metadata": {
    "scrolled": true
   },
   "outputs": [
    {
     "name": "stdout",
     "output_type": "stream",
     "text": [
      "Fitting 15 folds for each of 500 candidates, totalling 7500 fits\n"
     ]
    },
    {
     "name": "stderr",
     "output_type": "stream",
     "text": [
      "[Parallel(n_jobs=-1)]: Using backend LokyBackend with 4 concurrent workers.\n",
      "[Parallel(n_jobs=-1)]: Done  33 tasks      | elapsed:  1.1min\n",
      "[Parallel(n_jobs=-1)]: Done 154 tasks      | elapsed:  4.9min\n",
      "[Parallel(n_jobs=-1)]: Done 357 tasks      | elapsed: 28.4min\n",
      "[Parallel(n_jobs=-1)]: Done 640 tasks      | elapsed: 92.8min\n",
      "[Parallel(n_jobs=-1)]: Done 1005 tasks      | elapsed: 114.1min\n",
      "[Parallel(n_jobs=-1)]: Done 1450 tasks      | elapsed: 162.6min\n",
      "[Parallel(n_jobs=-1)]: Done 1977 tasks      | elapsed: 260.3min\n",
      "[Parallel(n_jobs=-1)]: Done 2584 tasks      | elapsed: 287.6min\n",
      "[Parallel(n_jobs=-1)]: Done 3273 tasks      | elapsed: 312.7min\n",
      "[Parallel(n_jobs=-1)]: Done 4042 tasks      | elapsed: 344.7min\n",
      "[Parallel(n_jobs=-1)]: Done 4893 tasks      | elapsed: 440.3min\n",
      "[Parallel(n_jobs=-1)]: Done 5824 tasks      | elapsed: 460.2min\n",
      "[Parallel(n_jobs=-1)]: Done 6837 tasks      | elapsed: 647.0min\n",
      "[Parallel(n_jobs=-1)]: Done 7500 out of 7500 | elapsed: 734.9min finished\n"
     ]
    },
    {
     "name": "stdout",
     "output_type": "stream",
     "text": [
      "Fitting 15 folds for each of 729 candidates, totalling 10935 fits\n"
     ]
    },
    {
     "name": "stderr",
     "output_type": "stream",
     "text": [
      "[Parallel(n_jobs=-1)]: Using backend LokyBackend with 4 concurrent workers.\n",
      "[Parallel(n_jobs=-1)]: Done 114 tasks      | elapsed:   14.2s\n",
      "[Parallel(n_jobs=-1)]: Done 286 tasks      | elapsed:   39.4s\n",
      "[Parallel(n_jobs=-1)]: Done 513 tasks      | elapsed:  1.2min\n",
      "[Parallel(n_jobs=-1)]: Done 796 tasks      | elapsed:  1.9min\n",
      "[Parallel(n_jobs=-1)]: Done 1205 tasks      | elapsed:  3.0min\n",
      "[Parallel(n_jobs=-1)]: Done 1718 tasks      | elapsed:  4.3min\n",
      "[Parallel(n_jobs=-1)]: Done 2273 tasks      | elapsed:  5.7min\n",
      "[Parallel(n_jobs=-1)]: Done 2976 tasks      | elapsed:  7.5min\n",
      "[Parallel(n_jobs=-1)]: Done 3793 tasks      | elapsed:  9.7min\n",
      "[Parallel(n_jobs=-1)]: Done 4618 tasks      | elapsed: 12.1min\n",
      "[Parallel(n_jobs=-1)]: Done 5513 tasks      | elapsed: 14.9min\n",
      "[Parallel(n_jobs=-1)]: Done 6552 tasks      | elapsed: 18.1min\n",
      "[Parallel(n_jobs=-1)]: Done 7609 tasks      | elapsed: 21.7min\n",
      "[Parallel(n_jobs=-1)]: Done 8778 tasks      | elapsed: 26.2min\n",
      "[Parallel(n_jobs=-1)]: Done 10053 tasks      | elapsed: 31.0min\n",
      "[Parallel(n_jobs=-1)]: Done 10935 out of 10935 | elapsed: 34.6min finished\n"
     ]
    }
   ],
   "source": [
    "clf_cat_boost=best_estimator_cb(500,X_train,y_train)\n",
    "clf_cat_boost.get_params()\n",
    "clf_list.append(clf_cat_boost)"
   ]
  },
  {
   "cell_type": "code",
   "execution_count": 202,
   "metadata": {
    "scrolled": false
   },
   "outputs": [
    {
     "name": "stdout",
     "output_type": "stream",
     "text": [
      "\u001b[4m\n",
      "predict X_test data:\u001b[0m\n",
      "confusion matrix:\n"
     ]
    },
    {
     "data": {
      "text/html": [
       "<div>\n",
       "<style scoped>\n",
       "    .dataframe tbody tr th:only-of-type {\n",
       "        vertical-align: middle;\n",
       "    }\n",
       "\n",
       "    .dataframe tbody tr th {\n",
       "        vertical-align: top;\n",
       "    }\n",
       "\n",
       "    .dataframe thead th {\n",
       "        text-align: right;\n",
       "    }\n",
       "</style>\n",
       "<table border=\"1\" class=\"dataframe\">\n",
       "  <thead>\n",
       "    <tr style=\"text-align: right;\">\n",
       "      <th></th>\n",
       "      <th>0</th>\n",
       "      <th>1</th>\n",
       "    </tr>\n",
       "  </thead>\n",
       "  <tbody>\n",
       "    <tr>\n",
       "      <th>0</th>\n",
       "      <td>3914</td>\n",
       "      <td>1434</td>\n",
       "    </tr>\n",
       "    <tr>\n",
       "      <th>1</th>\n",
       "      <td>55</td>\n",
       "      <td>692</td>\n",
       "    </tr>\n",
       "  </tbody>\n",
       "</table>\n",
       "</div>"
      ],
      "text/plain": [
       "      0     1\n",
       "0  3914  1434\n",
       "1    55   692"
      ]
     },
     "metadata": {},
     "output_type": "display_data"
    },
    {
     "name": "stdout",
     "output_type": "stream",
     "text": [
      "accuracy:  0.755701394585726\n",
      "Cost: 2259\n",
      "\u001b[4m\n",
      "predict X_train data:\u001b[0m\n",
      "confusion matrix:\n"
     ]
    },
    {
     "data": {
      "text/html": [
       "<div>\n",
       "<style scoped>\n",
       "    .dataframe tbody tr th:only-of-type {\n",
       "        vertical-align: middle;\n",
       "    }\n",
       "\n",
       "    .dataframe tbody tr th {\n",
       "        vertical-align: top;\n",
       "    }\n",
       "\n",
       "    .dataframe thead th {\n",
       "        text-align: right;\n",
       "    }\n",
       "</style>\n",
       "<table border=\"1\" class=\"dataframe\">\n",
       "  <thead>\n",
       "    <tr style=\"text-align: right;\">\n",
       "      <th></th>\n",
       "      <th>0</th>\n",
       "      <th>1</th>\n",
       "    </tr>\n",
       "  </thead>\n",
       "  <tbody>\n",
       "    <tr>\n",
       "      <th>0</th>\n",
       "      <td>11754</td>\n",
       "      <td>4463</td>\n",
       "    </tr>\n",
       "    <tr>\n",
       "      <th>1</th>\n",
       "      <td>86</td>\n",
       "      <td>1982</td>\n",
       "    </tr>\n",
       "  </tbody>\n",
       "</table>\n",
       "</div>"
      ],
      "text/plain": [
       "       0     1\n",
       "0  11754  4463\n",
       "1     86  1982"
      ]
     },
     "metadata": {},
     "output_type": "display_data"
    },
    {
     "name": "stdout",
     "output_type": "stream",
     "text": [
      "accuracy:  0.7512168444079846\n",
      "Cost: 5753\n"
     ]
    }
   ],
   "source": [
    "print( \"\\033[4m\\npredict X_test data:\\033[0m\")\n",
    "print_clf(clf_cat_boost,X_test, y_test)\n",
    "print( \"\\033[4m\\npredict X_train data:\\033[0m\")\n",
    "print_clf(clf_cat_boost,X_train, y_train)"
   ]
  },
  {
   "cell_type": "code",
   "execution_count": 203,
   "metadata": {
    "scrolled": false
   },
   "outputs": [
    {
     "data": {
      "image/png": "[encoded data removed]",
      "text/plain": [
       "<Figure size 432x288 with 1 Axes>"
      ]
     },
     "metadata": {
      "needs_background": "light"
     },
     "output_type": "display_data"
    },
    {
     "name": "stdout",
     "output_type": "stream",
     "text": [
      "\u001b[4m\n",
      "predict X_test data:\u001b[0m\n",
      "confusion matrix:\n"
     ]
    },
    {
     "data": {
      "text/html": [
       "<div>\n",
       "<style scoped>\n",
       "    .dataframe tbody tr th:only-of-type {\n",
       "        vertical-align: middle;\n",
       "    }\n",
       "\n",
       "    .dataframe tbody tr th {\n",
       "        vertical-align: top;\n",
       "    }\n",
       "\n",
       "    .dataframe thead th {\n",
       "        text-align: right;\n",
       "    }\n",
       "</style>\n",
       "<table border=\"1\" class=\"dataframe\">\n",
       "  <thead>\n",
       "    <tr style=\"text-align: right;\">\n",
       "      <th></th>\n",
       "      <th>0</th>\n",
       "      <th>1</th>\n",
       "    </tr>\n",
       "  </thead>\n",
       "  <tbody>\n",
       "    <tr>\n",
       "      <th>0</th>\n",
       "      <td>4068</td>\n",
       "      <td>1280</td>\n",
       "    </tr>\n",
       "    <tr>\n",
       "      <th>1</th>\n",
       "      <td>65</td>\n",
       "      <td>682</td>\n",
       "    </tr>\n",
       "  </tbody>\n",
       "</table>\n",
       "</div>"
      ],
      "text/plain": [
       "      0     1\n",
       "0  4068  1280\n",
       "1    65   682"
      ]
     },
     "metadata": {},
     "output_type": "display_data"
    },
    {
     "name": "stdout",
     "output_type": "stream",
     "text": [
      "accuracy:  0.7793273174733388\n",
      "Cost: 2255\n",
      "\u001b[4m\n",
      "predict X_train data:\u001b[0m\n",
      "confusion matrix:\n"
     ]
    },
    {
     "data": {
      "text/html": [
       "<div>\n",
       "<style scoped>\n",
       "    .dataframe tbody tr th:only-of-type {\n",
       "        vertical-align: middle;\n",
       "    }\n",
       "\n",
       "    .dataframe tbody tr th {\n",
       "        vertical-align: top;\n",
       "    }\n",
       "\n",
       "    .dataframe thead th {\n",
       "        text-align: right;\n",
       "    }\n",
       "</style>\n",
       "<table border=\"1\" class=\"dataframe\">\n",
       "  <thead>\n",
       "    <tr style=\"text-align: right;\">\n",
       "      <th></th>\n",
       "      <th>0</th>\n",
       "      <th>1</th>\n",
       "    </tr>\n",
       "  </thead>\n",
       "  <tbody>\n",
       "    <tr>\n",
       "      <th>0</th>\n",
       "      <td>12192</td>\n",
       "      <td>4025</td>\n",
       "    </tr>\n",
       "    <tr>\n",
       "      <th>1</th>\n",
       "      <td>110</td>\n",
       "      <td>1958</td>\n",
       "    </tr>\n",
       "  </tbody>\n",
       "</table>\n",
       "</div>"
      ],
      "text/plain": [
       "       0     1\n",
       "0  12192  4025\n",
       "1    110  1958"
      ]
     },
     "metadata": {},
     "output_type": "display_data"
    },
    {
     "name": "stdout",
     "output_type": "stream",
     "text": [
      "accuracy:  0.7738583538419469\n",
      "Cost: 5675\n"
     ]
    }
   ],
   "source": [
    "min_threshold=min_threshold_value(clf_cat_boost,X_train, X_test, y_train, y_test)"
   ]
  },
  {
   "cell_type": "code",
   "execution_count": 229,
   "metadata": {
    "scrolled": false
   },
   "outputs": [],
   "source": [
    "loss_dict = mod_cv(clf_cat_boost, X, y,min_threshold)"
   ]
  },
  {
   "cell_type": "code",
   "execution_count": 230,
   "metadata": {
    "scrolled": true
   },
   "outputs": [],
   "source": [
    "model_dict['clf_cat_boost'] = list(loss_dict.values())[0]"
   ]
  },
  {
   "cell_type": "code",
   "execution_count": 247,
   "metadata": {},
   "outputs": [],
   "source": [
    "treshols_dict['clf_cat_boost']=min_threshold"
   ]
  },
  {
   "cell_type": "markdown",
   "metadata": {},
   "source": [
    "# Model evaluation "
   ]
  },
  {
   "cell_type": "markdown",
   "metadata": {},
   "source": [
    "#### Comparison between the list of different types of data on spesific classifier:"
   ]
  },
  {
   "cell_type": "code",
   "execution_count": 234,
   "metadata": {},
   "outputs": [],
   "source": [
    "best_model=ttest_find_best(model_dict)"
   ]
  },
  {
   "cell_type": "code",
   "execution_count": 235,
   "metadata": {
    "scrolled": false
   },
   "outputs": [
    {
     "data": {
      "text/plain": [
       "'clf_cat_boost'"
      ]
     },
     "execution_count": 235,
     "metadata": {},
     "output_type": "execute_result"
    }
   ],
   "source": [
    "best_model"
   ]
  },
  {
   "cell_type": "markdown",
   "metadata": {},
   "source": [
    "#### cat boost was the third clasiffier :"
   ]
  },
  {
   "cell_type": "code",
   "execution_count": 238,
   "metadata": {},
   "outputs": [],
   "source": [
    "best_clf=clf_list[2]"
   ]
  },
  {
   "cell_type": "code",
   "execution_count": 239,
   "metadata": {
    "scrolled": false
   },
   "outputs": [
    {
     "data": {
      "text/plain": [
       "Pipeline(steps=[('over', SMOTE(sampling_strategy=0.2)),\n",
       "                ('under', RandomUnderSampler(sampling_strategy=0.2)),\n",
       "                ('cb',\n",
       "                 <catboost.core.CatBoostClassifier object at 0x000002AD688484C0>)])"
      ]
     },
     "execution_count": 239,
     "metadata": {},
     "output_type": "execute_result"
    }
   ],
   "source": [
    "best_clf"
   ]
  },
  {
   "cell_type": "code",
   "execution_count": 249,
   "metadata": {},
   "outputs": [],
   "source": [
    "min_thresh_best=treshols_dict['clf_cat_boost']"
   ]
  },
  {
   "cell_type": "markdown",
   "metadata": {},
   "source": [
    "### check overfitting according the validation data:"
   ]
  },
  {
   "cell_type": "raw",
   "metadata": {},
   "source": [
    "get the best data that we found before for the best model :"
   ]
  },
  {
   "cell_type": "code",
   "execution_count": 268,
   "metadata": {},
   "outputs": [],
   "source": [
    "X_train =  data_norm_and_not_with_debts.drop(['subscribed'], axis=1)\n",
    "y_train =  data_norm_and_not_with_debts['subscribed']"
   ]
  },
  {
   "cell_type": "code",
   "execution_count": 269,
   "metadata": {},
   "outputs": [],
   "source": [
    "X_valid=valid_norm_and_not_with_debts.drop(['subscribed'], axis=1)\n",
    "y_valid=valid_norm_and_not_with_debts['subscribed']"
   ]
  },
  {
   "cell_type": "code",
   "execution_count": 271,
   "metadata": {},
   "outputs": [
    {
     "data": {
      "text/plain": [
       "Pipeline(steps=[('over', SMOTE(sampling_strategy=0.2)),\n",
       "                ('under', RandomUnderSampler(sampling_strategy=0.2)),\n",
       "                ('cb',\n",
       "                 <catboost.core.CatBoostClassifier object at 0x000002AD688484C0>)])"
      ]
     },
     "execution_count": 271,
     "metadata": {},
     "output_type": "execute_result"
    }
   ],
   "source": [
    "best_clf"
   ]
  },
  {
   "cell_type": "code",
   "execution_count": 272,
   "metadata": {
    "scrolled": true
   },
   "outputs": [
    {
     "data": {
      "text/plain": [
       "Pipeline(steps=[('over', SMOTE(sampling_strategy=0.2)),\n",
       "                ('under', RandomUnderSampler(sampling_strategy=0.2)),\n",
       "                ('cb',\n",
       "                 <catboost.core.CatBoostClassifier object at 0x000002AD688484C0>)])"
      ]
     },
     "execution_count": 272,
     "metadata": {},
     "output_type": "execute_result"
    }
   ],
   "source": [
    "best_clf.fit(X_train,y_train)"
   ]
  },
  {
   "cell_type": "code",
   "execution_count": 273,
   "metadata": {
    "scrolled": true
   },
   "outputs": [
    {
     "name": "stdout",
     "output_type": "stream",
     "text": [
      "confusion matrix:\n"
     ]
    },
    {
     "data": {
      "text/html": [
       "<div>\n",
       "<style scoped>\n",
       "    .dataframe tbody tr th:only-of-type {\n",
       "        vertical-align: middle;\n",
       "    }\n",
       "\n",
       "    .dataframe tbody tr th {\n",
       "        vertical-align: top;\n",
       "    }\n",
       "\n",
       "    .dataframe thead th {\n",
       "        text-align: right;\n",
       "    }\n",
       "</style>\n",
       "<table border=\"1\" class=\"dataframe\">\n",
       "  <thead>\n",
       "    <tr style=\"text-align: right;\">\n",
       "      <th></th>\n",
       "      <th>0</th>\n",
       "      <th>1</th>\n",
       "    </tr>\n",
       "  </thead>\n",
       "  <tbody>\n",
       "    <tr>\n",
       "      <th>0</th>\n",
       "      <td>16085</td>\n",
       "      <td>5480</td>\n",
       "    </tr>\n",
       "    <tr>\n",
       "      <th>1</th>\n",
       "      <td>156</td>\n",
       "      <td>2659</td>\n",
       "    </tr>\n",
       "  </tbody>\n",
       "</table>\n",
       "</div>"
      ],
      "text/plain": [
       "       0     1\n",
       "0  16085  5480\n",
       "1    156  2659"
      ]
     },
     "metadata": {},
     "output_type": "display_data"
    },
    {
     "name": "stdout",
     "output_type": "stream",
     "text": [
      "accuracy:  0.7688269073010664\n",
      "Cost: 7820\n"
     ]
    }
   ],
   "source": [
    "y_prob_train= best_clf.predict_proba(X_train)\n",
    "y_pred_min_train = [0 if p[1]<min_thresh_best else 1 for p in y_prob_train]\n",
    "print_clf(best_clf, X_train, y_train,y_pred_min_train)"
   ]
  },
  {
   "cell_type": "code",
   "execution_count": 274,
   "metadata": {},
   "outputs": [
    {
     "name": "stdout",
     "output_type": "stream",
     "text": [
      "confusion matrix:\n"
     ]
    },
    {
     "data": {
      "text/html": [
       "<div>\n",
       "<style scoped>\n",
       "    .dataframe tbody tr th:only-of-type {\n",
       "        vertical-align: middle;\n",
       "    }\n",
       "\n",
       "    .dataframe tbody tr th {\n",
       "        vertical-align: top;\n",
       "    }\n",
       "\n",
       "    .dataframe thead th {\n",
       "        text-align: right;\n",
       "    }\n",
       "</style>\n",
       "<table border=\"1\" class=\"dataframe\">\n",
       "  <thead>\n",
       "    <tr style=\"text-align: right;\">\n",
       "      <th></th>\n",
       "      <th>0</th>\n",
       "      <th>1</th>\n",
       "    </tr>\n",
       "  </thead>\n",
       "  <tbody>\n",
       "    <tr>\n",
       "      <th>0</th>\n",
       "      <td>3758</td>\n",
       "      <td>1642</td>\n",
       "    </tr>\n",
       "    <tr>\n",
       "      <th>1</th>\n",
       "      <td>52</td>\n",
       "      <td>652</td>\n",
       "    </tr>\n",
       "  </tbody>\n",
       "</table>\n",
       "</div>"
      ],
      "text/plain": [
       "      0     1\n",
       "0  3758  1642\n",
       "1    52   652"
      ]
     },
     "metadata": {},
     "output_type": "display_data"
    },
    {
     "name": "stdout",
     "output_type": "stream",
     "text": [
      "accuracy:  0.7224770642201835\n",
      "Cost: 2422\n"
     ]
    }
   ],
   "source": [
    "y_prob_valid= best_clf.predict_proba(X_valid)\n",
    "y_pred_min_valid = [0 if p[1]<min_thresh_best else 1 for p in y_prob_valid]\n",
    "print_clf(best_clf, X_valid, y_valid,y_pred_min_valid)"
   ]
  },
  {
   "cell_type": "markdown",
   "metadata": {},
   "source": [
    "# Test Prediction:\n",
    "create CSV file with a predictions for the attached test data set:</br>\n",
    "the test file \"marketing_campaigns_test_pre_processing_part1.csv\" is the test data after pre-processing (we did the tet pre-process in notebook part1).</br>\n",
    "As we saw the 'catboost' was the best classifier with data option 'data_norm_and_not_with_debts'. \n",
    "* first we transform the test data features to be the same as  data_norm_and_not_with_debts features\n",
    "*we apply clf_cat_boost on the test data\n",
    "* we save the predict lable in csv"
   ]
  },
  {
   "cell_type": "code",
   "execution_count": 278,
   "metadata": {},
   "outputs": [],
   "source": [
    "test = pd.read_csv(\"./marketing_campaigns_test_pre_processing_part1.csv\")"
   ]
  },
  {
   "cell_type": "code",
   "execution_count": 279,
   "metadata": {
    "scrolled": false
   },
   "outputs": [
    {
     "name": "stdout",
     "output_type": "stream",
     "text": [
      "<class 'pandas.core.frame.DataFrame'>\n",
      "RangeIndex: 14694 entries, 0 to 14693\n",
      "Data columns (total 24 columns):\n",
      " #   Column                  Non-Null Count  Dtype  \n",
      "---  ------                  --------------  -----  \n",
      " 0   id                      14694 non-null  int64  \n",
      " 1   status                  14694 non-null  int64  \n",
      " 2   education               14694 non-null  int64  \n",
      " 3   profession              14694 non-null  int64  \n",
      " 4   device                  14694 non-null  int64  \n",
      " 5   loan                    14694 non-null  int64  \n",
      " 6   mortgage                14694 non-null  int64  \n",
      " 7   credit                  14694 non-null  int64  \n",
      " 8   positive                14694 non-null  int64  \n",
      " 9   l_season                14694 non-null  int64  \n",
      " 10  p_participant           14694 non-null  int64  \n",
      " 11  debts                   14694 non-null  int64  \n",
      " 12  age_z_norm              14694 non-null  float64\n",
      " 13  account_balance_z_norm  14694 non-null  float64\n",
      " 14  n_contact_z_norm        14694 non-null  float64\n",
      " 15  l_call_duration_z_norm  14694 non-null  float64\n",
      " 16  l_day_z_norm            14694 non-null  float64\n",
      " 17  l_season_z_norm         14694 non-null  float64\n",
      " 18  debts_z_norm            14694 non-null  float64\n",
      " 19  l_day_bin               14694 non-null  int64  \n",
      " 20  account_balance_bin     14694 non-null  int64  \n",
      " 21  age_bin                 14694 non-null  int64  \n",
      " 22  n_contact_bin           14694 non-null  int64  \n",
      " 23  l_call_duration_bin     14694 non-null  float64\n",
      "dtypes: float64(8), int64(16)\n",
      "memory usage: 2.7 MB\n"
     ]
    }
   ],
   "source": [
    "test.info()"
   ]
  },
  {
   "cell_type": "code",
   "execution_count": 285,
   "metadata": {},
   "outputs": [
    {
     "name": "stdout",
     "output_type": "stream",
     "text": [
      "<class 'pandas.core.frame.DataFrame'>\n",
      "RangeIndex: 14694 entries, 0 to 14693\n",
      "Data columns (total 11 columns):\n",
      " #   Column                  Non-Null Count  Dtype  \n",
      "---  ------                  --------------  -----  \n",
      " 0   status                  14694 non-null  int64  \n",
      " 1   profession              14694 non-null  int64  \n",
      " 2   device                  14694 non-null  int64  \n",
      " 3   debts                   14694 non-null  int64  \n",
      " 4   p_participant           14694 non-null  int64  \n",
      " 5   l_season                14694 non-null  int64  \n",
      " 6   l_call_duration_z_norm  14694 non-null  float64\n",
      " 7   account_balance_z_norm  14694 non-null  float64\n",
      " 8   n_contact_z_norm        14694 non-null  float64\n",
      " 9   age_z_norm              14694 non-null  float64\n",
      " 10  l_day_z_norm            14694 non-null  float64\n",
      "dtypes: float64(5), int64(6)\n",
      "memory usage: 1.2 MB\n"
     ]
    }
   ],
   "source": [
    "test_norm_and_not_with_debts = test[['status', 'profession', 'device', 'debts', 'p_participant', 'l_season', \n",
    "                              'l_call_duration_z_norm', 'account_balance_z_norm','n_contact_z_norm',  'age_z_norm', 'l_day_z_norm']].copy()\n",
    "test_norm_and_not_with_debts.info()"
   ]
  },
  {
   "cell_type": "markdown",
   "metadata": {},
   "source": [
    "### we will combine the validation and the train  after we checked that we don't have overfitting in order to be more accurate when we make our prediction on the test/"
   ]
  },
  {
   "cell_type": "code",
   "execution_count": 290,
   "metadata": {},
   "outputs": [],
   "source": [
    "frames = [data_norm_and_not_with_debts, valid_norm_and_not_with_debts]\n",
    "train = pd.concat(frames)\n",
    "X_train =  train.drop(['subscribed'], axis=1)\n",
    "y_train =  train['subscribed']"
   ]
  },
  {
   "cell_type": "code",
   "execution_count": 292,
   "metadata": {},
   "outputs": [
    {
     "data": {
      "text/plain": [
       "Pipeline(steps=[('over', SMOTE(sampling_strategy=0.2)),\n",
       "                ('under', RandomUnderSampler(sampling_strategy=0.2)),\n",
       "                ('cb',\n",
       "                 <catboost.core.CatBoostClassifier object at 0x000002AD688484C0>)])"
      ]
     },
     "execution_count": 292,
     "metadata": {},
     "output_type": "execute_result"
    }
   ],
   "source": [
    "best_clf.fit(X_train,y_train)"
   ]
  },
  {
   "cell_type": "code",
   "execution_count": 293,
   "metadata": {},
   "outputs": [],
   "source": [
    "y_predict_test=best_clf.predict(test_norm_and_not_with_debts)"
   ]
  },
  {
   "cell_type": "code",
   "execution_count": 294,
   "metadata": {
    "scrolled": true
   },
   "outputs": [
    {
     "data": {
      "text/plain": [
       "array([0, 0, 0, ..., 0, 1, 0], dtype=int64)"
      ]
     },
     "execution_count": 294,
     "metadata": {},
     "output_type": "execute_result"
    }
   ],
   "source": [
    "y_predict_test"
   ]
  },
  {
   "cell_type": "code",
   "execution_count": 297,
   "metadata": {},
   "outputs": [],
   "source": [
    "test['subscribed-predict']=np.reshape(y_predict_test, len(y_predict_test))"
   ]
  },
  {
   "cell_type": "code",
   "execution_count": 299,
   "metadata": {},
   "outputs": [
    {
     "data": {
      "text/plain": [
       "0    7927\n",
       "1    6767\n",
       "Name: subscribed-predict, dtype: int64"
      ]
     },
     "execution_count": 299,
     "metadata": {},
     "output_type": "execute_result"
    }
   ],
   "source": [
    "test['subscribed-predict'].value_counts()"
   ]
  },
  {
   "cell_type": "code",
   "execution_count": 300,
   "metadata": {
    "scrolled": true
   },
   "outputs": [],
   "source": [
    "test.to_csv('test_prediction.csv')"
   ]
  }
 ],
 "metadata": {
  "kernelspec": {
   "display_name": "Python 3",
   "language": "python",
   "name": "python3"
  },
  "language_info": {
   "codemirror_mode": {
    "name": "ipython",
    "version": 3
   },
   "file_extension": ".py",
   "mimetype": "text/x-python",
   "name": "python",
   "nbconvert_exporter": "python",
   "pygments_lexer": "ipython3",
   "version": "3.8.5"
  }
 },
 "nbformat": 4,
 "nbformat_minor": 4
}
